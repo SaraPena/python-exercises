{
 "cells": [
  {
   "cell_type": "code",
   "execution_count": 1,
   "metadata": {},
   "outputs": [],
   "source": [
    "import matplotlib.pyplot as plt\n",
    "import math"
   ]
  },
  {
   "cell_type": "code",
   "execution_count": null,
   "metadata": {},
   "outputs": [],
   "source": [
    "# 5. Make a new Jupyter notebook named big_o_notation.ipynb\n",
    "\n",
    "# Title your chart \"Big O Notation\"\n",
    "# Label your x axis \"Elements\"\n",
    "# Label your y axis \"Operations\"\n",
    "# Label your curves or make a legend for the curves\n",
    "# Use LaTex notation where possible\n",
    "# Curves to graph\n",
    "# y=0x + 1 and label the curve \"O(1)\"\n",
    "# y=log(x) and label the curve \"O(log n)\"\n",
    "# y=x and label the curve \"O(n)\" \n",
    "# y=x*log(x) and label it \"O(n log n)\" \n",
    "# y=x^2 and label it \"O(n^2)\"  \n",
    "# y=2^x and label it \"O(2^n)\"\n",
    "# y=n! and label it \"O(n!)\"  \n",
    "# y=n^n and label it \"O(n^n)\"\n",
    "\n",
    "plt.figure(figsize=(16, 9))\n",
    "plt.title('Big O Notation')\n",
    "\n",
    "x1 = list(range(0, 25))\n",
    "y1 = [0 * n + 1 for n in x1]\n",
    "plt.plot(x1, y1, label='$O(1)$')\n",
    "\n",
    "x2 = list(range(1, 10))\n",
    "y2 = [math.log(n) for n in x2]\n",
    "plt.plot(x2, y2, label='$O(\\log[n])$')\n",
    "\n",
    "x3 = list(range(1, 10))\n",
    "y3 = [n * math.log(n) for n in x3]\n",
    "plt.plot(x3, y3, label='$O(n\\log[n])$')\n",
    "\n",
    "x4 = list(range(0, 10))\n",
    "y4 = [n**2 for n in x4]\n",
    "plt.plot(x4, y4, label='$O(n^2)$')\n",
    "\n",
    "x5 = list(range(0, 8))\n",
    "y5 = [2**n for n in x5]\n",
    "plt.plot(x5, y5, label='$O(2^n)$')\n",
    "\n",
    "x6 = list(range(0, 25))\n",
    "y6 = [n for n in x6]\n",
    "plt.plot(x6, y6, label='$O({n!})$')\n",
    "\n",
    "x7 = list(range(1, 6))\n",
    "y7 = [math.factorial(n) for n in x7]\n",
    "plt.plot(x7, y7, label='$O({n!})$')\n",
    "\n",
    "x8 = list(range(0, 5))\n",
    "y8 = [n**n for n in x8]\n",
    "plt.plot(x8, y8, label='$O(n^n)$')\n",
    "\n",
    "plt.legend()\n",
    "plt.xlabel('Elements')\n",
    "plt.ylabel('Operations')\n",
    "plt.show()"
   ]
  },
  {
   "cell_type": "code",
   "execution_count": null,
   "metadata": {},
   "outputs": [],
   "source": [
    "# 6. Bonus Write the code necessary to write your name on a chart. Use box letters.\n",
    "# Ryvyn\n",
    "\n",
    "plt.figure(figsize=(16, 9))\n",
    "plt.title('Ryvyn')\n",
    "\n",
    "x1 = [1, 1, 3, 3, 1, 3]\n",
    "y1 = [5, 15, 15, 10, 10, 5]\n",
    "plt.plot(x1, y1)\n",
    "\n",
    "x2 = [4, 4, 5, 3]\n",
    "y2 = [10, 5, 10, 0]\n",
    "plt.plot(x2, y2)\n",
    "\n",
    "x3 = [6, 7, 8]\n",
    "y3 = [10, 5, 10]\n",
    "plt.plot(x3, y3)\n",
    "\n",
    "x4 = [9, 9, 10, 8]\n",
    "y4 = [10, 5, 10, 0]\n",
    "plt.plot(x4, y4)\n",
    "\n",
    "x5 = [11, 11, 12, 12]\n",
    "y5 = [5, 10, 10, 5]\n",
    "plt.plot(x5, y5)\n",
    "\n",
    "plt.show()"
   ]
  },
  {
   "cell_type": "code",
   "execution_count": 7,
   "metadata": {},
   "outputs": [
    {
     "data": {
      "text/plain": [
       "[<matplotlib.lines.Line2D at 0x7f99bb6c96d0>]"
      ]
     },
     "execution_count": 7,
     "metadata": {},
     "output_type": "execute_result"
    },
    {
     "data": {
      "image/png": "[encoded data removed]",
      "text/plain": [
       "<Figure size 432x288 with 1 Axes>"
      ]
     },
     "metadata": {
      "needs_background": "light"
     },
     "output_type": "display_data"
    }
   ],
   "source": [
    "# 7. Bonus: use curves for letters in your name that have curves in them.\n",
    "\n",
    "# no idea how to approach this, goggling\n",
    "\n",
    "x = list(range(-11, 0))\n",
    "y = [n**2+n+2 for n in x]\n",
    "plt.plot(x,y)"
   ]
  },
  {
   "cell_type": "code",
   "execution_count": null,
   "metadata": {},
   "outputs": [],
   "source": [
    "y = list(range(-20, 20))\n",
    "x = [n**2-n+1 for n in y]\n",
    "plt.axis([max(x),min(x),max(y),min(y)])\n",
    "plt.plot(x,y)"
   ]
  },
  {
   "cell_type": "code",
   "execution_count": null,
   "metadata": {},
   "outputs": [],
   "source": []
  }
 ],
 "metadata": {
  "kernelspec": {
   "display_name": "Python 3",
   "language": "python",
   "name": "python3"
  },
  "language_info": {
   "codemirror_mode": {
    "name": "ipython",
    "version": 3
   },
   "file_extension": ".py",
   "mimetype": "text/x-python",
   "name": "python",
   "nbconvert_exporter": "python",
   "pygments_lexer": "ipython3",
   "version": "3.7.6"
  }
 },
 "nbformat": 4,
 "nbformat_minor": 4
}
