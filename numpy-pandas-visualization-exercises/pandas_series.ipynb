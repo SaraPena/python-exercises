{
 "cells": [
  {
   "cell_type": "code",
   "execution_count": 9,
   "metadata": {},
   "outputs": [],
   "source": [
    "import pandas as pd"
   ]
  },
  {
   "cell_type": "code",
   "execution_count": 10,
   "metadata": {},
   "outputs": [
    {
     "data": {
      "text/plain": [
       "pandas.core.series.Series"
      ]
     },
     "execution_count": 10,
     "metadata": {},
     "output_type": "execute_result"
    }
   ],
   "source": [
    "# 1. Use pandas to create a Series from the following data:\n",
    "# [\"kiwi\", \"mango\", \"strawberry\", \"pineapple\", \"gala apple\", \"honeycrisp apple\", \"tomato\", \"watermelon\", \"honeydew\", \"kiwi\", \"kiwi\", \"kiwi\", \"mango\", \"blueberry\", \"blackberry\", \"gooseberry\", \"papaya\"]\n",
    "# a. Name the variable that holds the series fruits.\n",
    "\n",
    "# Name the variable that holds the series fruit\n",
    "sfruits = pd.Series([\"kiwi\", \"mango\", \"strawberry\", \"pineapple\", \"gala apple\", \"honeycrisp apple\", \"tomato\", \"watermelon\", \"honeydew\", \"kiwi\", \"kiwi\", \"kiwi\", \"mango\", \"blueberry\", \"blackberry\", \"gooseberry\", \"papaya\"])\n",
    "type(sfruits)"
   ]
  },
  {
   "cell_type": "code",
   "execution_count": 5,
   "metadata": {},
   "outputs": [
    {
     "data": {
      "text/plain": [
       "count       17\n",
       "unique      13\n",
       "top       kiwi\n",
       "freq         4\n",
       "dtype: object"
      ]
     },
     "execution_count": 5,
     "metadata": {},
     "output_type": "execute_result"
    }
   ],
   "source": [
    "# b. Run .describe() on the series to see what describe returns for a series of strings.\n",
    "\n",
    "# use describe function\n",
    "sfruits.describe()\n"
   ]
  },
  {
   "cell_type": "code",
   "execution_count": 39,
   "metadata": {},
   "outputs": [],
   "source": [
    "# c. Run the code necessary to produce only the unique fruit names.\n",
    "\n",
    "# use unique function\n",
    "set = sfruits.unique()"
   ]
  },
  {
   "cell_type": "code",
   "execution_count": 41,
   "metadata": {},
   "outputs": [
    {
     "data": {
      "text/plain": [
       "kiwi                4\n",
       "mango               2\n",
       "tomato              1\n",
       "papaya              1\n",
       "strawberry          1\n",
       "honeydew            1\n",
       "blackberry          1\n",
       "gala apple          1\n",
       "watermelon          1\n",
       "honeycrisp apple    1\n",
       "blueberry           1\n",
       "gooseberry          1\n",
       "pineapple           1\n",
       "dtype: int64"
      ]
     },
     "execution_count": 41,
     "metadata": {},
     "output_type": "execute_result"
    }
   ],
   "source": [
    "# d. Determine how many times each value occurs in the series.\n",
    "\n",
    "# use value_counts function\n",
    "count = sfruits.value_counts()\n"
   ]
  },
  {
   "cell_type": "code",
   "execution_count": 42,
   "metadata": {},
   "outputs": [
    {
     "data": {
      "text/plain": [
       "kiwi    4\n",
       "dtype: int64"
      ]
     },
     "execution_count": 42,
     "metadata": {},
     "output_type": "execute_result"
    }
   ],
   "source": [
    "# e. Determine the most frequently occurring fruit name from the series.\n",
    "\n",
    "# use series from above with counts and nlargest function, see Faith's notes\n",
    "count.nlargest(1, keep='all')"
   ]
  },
  {
   "cell_type": "code",
   "execution_count": 43,
   "metadata": {},
   "outputs": [
    {
     "data": {
      "text/plain": [
       "tomato              1\n",
       "papaya              1\n",
       "strawberry          1\n",
       "honeydew            1\n",
       "blackberry          1\n",
       "gala apple          1\n",
       "watermelon          1\n",
       "honeycrisp apple    1\n",
       "blueberry           1\n",
       "gooseberry          1\n",
       "pineapple           1\n",
       "dtype: int64"
      ]
     },
     "execution_count": 43,
     "metadata": {},
     "output_type": "execute_result"
    }
   ],
   "source": [
    "# f. Determine the least frequently occurring fruit name from the series.\n",
    "\n",
    "# use value counts series with nsmallest, see Faith's notes\n",
    "count.nsmallest(1, keep='all')"
   ]
  },
  {
   "cell_type": "code",
   "execution_count": 11,
   "metadata": {},
   "outputs": [
    {
     "data": {
      "text/plain": [
       "'honeycrisp apple'"
      ]
     },
     "execution_count": 11,
     "metadata": {},
     "output_type": "execute_result"
    }
   ],
   "source": [
    "# g. Write the code to get the longest string from the fruits series.\n",
    "\n",
    "# use max function\n",
    "sfruits.max()\n",
    "# per walk through this is incorrect\n",
    "\n",
    "# correct solution\n",
    "max(sfruits.to_list(), key = len)"
   ]
  },
  {
   "cell_type": "code",
   "execution_count": 50,
   "metadata": {},
   "outputs": [
    {
     "data": {
      "text/plain": [
       "1                mango\n",
       "2           strawberry\n",
       "3            pineapple\n",
       "4           gala apple\n",
       "5     honeycrisp apple\n",
       "6               tomato\n",
       "7           watermelon\n",
       "8             honeydew\n",
       "9            blueberry\n",
       "10          blackberry\n",
       "11          gooseberry\n",
       "12              papaya\n",
       "dtype: object"
      ]
     },
     "execution_count": 50,
     "metadata": {},
     "output_type": "execute_result"
    }
   ],
   "source": [
    "# h. Find the fruit(s) with 5 or more letters in the name.\n",
    "\n",
    "# change set of uniqie names to pandas series\n",
    "set_series = pd.Series(set)\n",
    "# get list of true or false for names longer greater than or equal to 5 letters\n",
    "bools = set_series.str.len() >= 5\n",
    "# pass bools to set_series to get names\n",
    "set_series[bools]"
   ]
  },
  {
   "cell_type": "code",
   "execution_count": 51,
   "metadata": {},
   "outputs": [
    {
     "data": {
      "text/plain": [
       "0                 Kiwi\n",
       "1                Mango\n",
       "2           Strawberry\n",
       "3            Pineapple\n",
       "4           Gala apple\n",
       "5     Honeycrisp apple\n",
       "6               Tomato\n",
       "7           Watermelon\n",
       "8             Honeydew\n",
       "9                 Kiwi\n",
       "10                Kiwi\n",
       "11                Kiwi\n",
       "12               Mango\n",
       "13           Blueberry\n",
       "14          Blackberry\n",
       "15          Gooseberry\n",
       "16              Papaya\n",
       "dtype: object"
      ]
     },
     "execution_count": 51,
     "metadata": {},
     "output_type": "execute_result"
    }
   ],
   "source": [
    "# i. Capitalize all the fruit strings in the series.\n",
    "\n",
    "sfruits.str.capitalize()"
   ]
  },
  {
   "cell_type": "code",
   "execution_count": 53,
   "metadata": {},
   "outputs": [
    {
     "data": {
      "text/plain": [
       "14"
      ]
     },
     "execution_count": 53,
     "metadata": {},
     "output_type": "execute_result"
    }
   ],
   "source": [
    "# j. Count the letter \"a\" in all the fruits (use string vectorization)\n",
    "\n",
    "# exobrain https://pandas.pydata.org/pandas-docs/stable/reference/api/pandas.Series.str.count.html\n",
    "# use str.count attribute, use sum function for total count\n",
    "sfruits.str.count('a').sum()\n"
   ]
  },
  {
   "cell_type": "code",
   "execution_count": 29,
   "metadata": {
    "scrolled": true
   },
   "outputs": [
    {
     "name": "stdout",
     "output_type": "stream",
     "text": [
      "0     2\n",
      "1     2\n",
      "2     2\n",
      "3     4\n",
      "4     4\n",
      "5     5\n",
      "6     3\n",
      "7     4\n",
      "8     3\n",
      "9     2\n",
      "10    2\n",
      "11    2\n",
      "12    2\n",
      "13    3\n",
      "14    2\n",
      "15    4\n",
      "16    3\n",
      "dtype: int64\n"
     ]
    }
   ],
   "source": [
    "# k. Output the number of vowels in each and every fruit.\n",
    "\n",
    "# bring in count vowels function from kaggle\n",
    "def count_vowels(value):\n",
    "    value = value.lower()\n",
    "    vowel = ['a', 'e', 'i', 'o', 'u']\n",
    "    count = 0\n",
    "    for i in value:\n",
    "        if i in vowel:\n",
    "            count += 1\n",
    "    return count\n",
    "\n",
    "# this returns a summary of 8 fruits with 2 vowels each, 4 fruits with 4 vowels, etc\n",
    "# sfruits.apply(count_vowels).value_counts()\n",
    "\n",
    "# create lambda function to apply to series\n",
    "fruit_vowel = sfruits.apply(lambda n: count_vowels(n))\n",
    "print(fruit_vowel)\n",
    "\n",
    "# SEE WALK THROUGH FOR ADDITIONAL WAYS TO DO THIS\n"
   ]
  },
  {
   "cell_type": "code",
   "execution_count": 68,
   "metadata": {},
   "outputs": [
    {
     "data": {
      "text/plain": [
       "6         tomato\n",
       "15    gooseberry\n",
       "dtype: object"
      ]
     },
     "execution_count": 68,
     "metadata": {},
     "output_type": "execute_result"
    }
   ],
   "source": [
    "# l. Use the .apply method and a lambda function to find the fruit(s) containing two or more \"o\"\n",
    "# letters in the name.\n",
    "\n",
    "# create lambda function to apply\n",
    "two_o = sfruits.apply(lambda n: 'yes' if n.count('o') >= 2 else 'no')\n",
    "# use two_o to index into list\n",
    "sfruits[two_o == 'yes']"
   ]
  },
  {
   "cell_type": "code",
   "execution_count": 79,
   "metadata": {},
   "outputs": [
    {
     "data": {
      "text/plain": [
       "2     strawberry\n",
       "13     blueberry\n",
       "14    blackberry\n",
       "15    gooseberry\n",
       "dtype: object"
      ]
     },
     "execution_count": 79,
     "metadata": {},
     "output_type": "execute_result"
    }
   ],
   "source": [
    "# m. Write the code to get only the fruits containing \"berry\" in the name\n",
    "\n",
    "# exobrain https://pandas.pydata.org/pandas-docs/stable/reference/api/pandas.Series.str.findall.html\n",
    "# this is better https://pandas.pydata.org/pandas-docs/stable/reference/api/pandas.Series.str.contains.html\n",
    "\n",
    "berry = sfruits.str.contains('berry')\n",
    "sfruits[berry]"
   ]
  },
  {
   "cell_type": "code",
   "execution_count": 81,
   "metadata": {},
   "outputs": [
    {
     "data": {
      "text/plain": [
       "3           pineapple\n",
       "4          gala apple\n",
       "5    honeycrisp apple\n",
       "dtype: object"
      ]
     },
     "execution_count": 81,
     "metadata": {},
     "output_type": "execute_result"
    }
   ],
   "source": [
    "# n. Write the code to get only the fruits containing \"apple\" in the name\n",
    "\n",
    "# use contains function like above\n",
    "apple = sfruits.str.contains('apple')\n",
    "sfruits[apple]"
   ]
  },
  {
   "cell_type": "code",
   "execution_count": 150,
   "metadata": {},
   "outputs": [
    {
     "data": {
      "text/plain": [
       "'honeycrisp apple'"
      ]
     },
     "execution_count": 150,
     "metadata": {},
     "output_type": "execute_result"
    }
   ],
   "source": [
    "# o. Which fruit has the highest amount of vowels?\n",
    "\n",
    "# this gives a list of number of vowels per fruit. max, idmax, and len do not work\n",
    "max_vowels = sfruits[max(sfruits.str.count('[aeiou]'))]\n",
    "max_vowels\n",
    "\n",
    "# from study group\n",
    "# SEE ALSO WALK THROUGH NOTES"
   ]
  },
  {
   "cell_type": "code",
   "execution_count": 100,
   "metadata": {},
   "outputs": [
    {
     "data": {
      "text/plain": [
       "0       $796,459.41\n",
       "1           $278.60\n",
       "2       $482,571.67\n",
       "3     $4,503,915.98\n",
       "4      $2,121,418.3\n",
       "5      $1,260,813.3\n",
       "6        $87,231.01\n",
       "7     $1,509,175.45\n",
       "8     $4,138,548.00\n",
       "9     $2,848,913.80\n",
       "10      $594,715.39\n",
       "11    $4,789,988.17\n",
       "12     $4,513,644.5\n",
       "13    $3,191,059.97\n",
       "14    $1,758,712.24\n",
       "15    $4,338,283.54\n",
       "16    $4,738,303.38\n",
       "17    $2,791,759.67\n",
       "18      $769,681.94\n",
       "19      $452,650.23\n",
       "dtype: object"
      ]
     },
     "execution_count": 100,
     "metadata": {},
     "output_type": "execute_result"
    }
   ],
   "source": [
    "# 2. Use pandas to create a Series from the following data:\n",
    "# ['$796,459.41', '$278.60', '$482,571.67', '$4,503,915.98', '$2,121,418.3', '$1,260,813.3', '$87,231.01', '$1,509,175.45', '$4,138,548.00', '$2,848,913.80', '$594,715.39', '$4,789,988.17', '$4,513,644.5', '$3,191,059.97', '$1,758,712.24', '$4,338,283.54', '$4,738,303.38', '$2,791,759.67', '$769,681.94', '$452,650.23']\n",
    "# What is the data type of the series?\n",
    "\n",
    "data = pd.Series(['$796,459.41', '$278.60', '$482,571.67', '$4,503,915.98', '$2,121,418.3', '$1,260,813.3', '$87,231.01', '$1,509,175.45', '$4,138,548.00', '$2,848,913.80', '$594,715.39', '$4,789,988.17', '$4,513,644.5', '$3,191,059.97', '$1,758,712.24', '$4,338,283.54', '$4,738,303.38', '$2,791,759.67', '$769,681.94', '$452,650.23'\n",
    "])\n",
    "data\n"
   ]
  },
  {
   "cell_type": "code",
   "execution_count": 105,
   "metadata": {},
   "outputs": [
    {
     "name": "stdout",
     "output_type": "stream",
     "text": [
      "0      796459.41\n",
      "1         278.60\n",
      "2      482571.67\n",
      "3     4503915.98\n",
      "4     2121418.30\n",
      "5     1260813.30\n",
      "6       87231.01\n",
      "7     1509175.45\n",
      "8     4138548.00\n",
      "9     2848913.80\n",
      "10     594715.39\n",
      "11    4789988.17\n",
      "12    4513644.50\n",
      "13    3191059.97\n",
      "14    1758712.24\n",
      "15    4338283.54\n",
      "16    4738303.38\n",
      "17    2791759.67\n",
      "18     769681.94\n",
      "19     452650.23\n",
      "dtype: float64\n"
     ]
    }
   ],
   "source": [
    "# Use series operations to convert the series to a numeric data type.\n",
    "\n",
    "# remove $ and , from numbers\n",
    "data = data.str.replace('$', '')\n",
    "data = data.str.replace(',', '')\n",
    "# exobrain https://pandas.pydata.org/pandas-docs/stable/reference/api/pandas.to_numeric.html\n",
    "data = pd.to_numeric(data)\n"
   ]
  },
  {
   "cell_type": "code",
   "execution_count": 107,
   "metadata": {},
   "outputs": [
    {
     "name": "stdout",
     "output_type": "stream",
     "text": [
      "4789988.17 278.6\n"
     ]
    }
   ],
   "source": [
    "# What is the maximum value? The minimum?\n",
    "\n",
    "print(data.max(), data.min())"
   ]
  },
  {
   "cell_type": "code",
   "execution_count": 137,
   "metadata": {},
   "outputs": [
    {
     "name": "stdout",
     "output_type": "stream",
     "text": [
      "0        (-4511.11, 1197705.993]\n",
      "1        (-4511.11, 1197705.993]\n",
      "2        (-4511.11, 1197705.993]\n",
      "3      (3592560.778, 4789988.17]\n",
      "4     (1197705.993, 2395133.385]\n",
      "5     (1197705.993, 2395133.385]\n",
      "6        (-4511.11, 1197705.993]\n",
      "7     (1197705.993, 2395133.385]\n",
      "8      (3592560.778, 4789988.17]\n",
      "9     (2395133.385, 3592560.778]\n",
      "10       (-4511.11, 1197705.993]\n",
      "11     (3592560.778, 4789988.17]\n",
      "12     (3592560.778, 4789988.17]\n",
      "13    (2395133.385, 3592560.778]\n",
      "14    (1197705.993, 2395133.385]\n",
      "15     (3592560.778, 4789988.17]\n",
      "16     (3592560.778, 4789988.17]\n",
      "17    (2395133.385, 3592560.778]\n",
      "18       (-4511.11, 1197705.993]\n",
      "19       (-4511.11, 1197705.993]\n",
      "dtype: category\n",
      "Categories (4, interval[float64]): [(-4511.11, 1197705.993] < (1197705.993, 2395133.385] < (2395133.385, 3592560.778] < (3592560.778, 4789988.17]]\n"
     ]
    }
   ],
   "source": [
    "# Bin the data into 4 equally sized intervals and show how many values fall into each bin.\n",
    "\n",
    "# use cut function with 4 bins\n",
    "data_bins = pd.cut(data, 4)\n",
    "print(data_bins)\n",
    "\n",
    "# FROM WALK THROUGH ADD .VALUE_COUNTS().SORT_INDEX()"
   ]
  },
  {
   "cell_type": "code",
   "execution_count": 160,
   "metadata": {},
   "outputs": [
    {
     "data": {
      "image/png": "[encoded data removed]",
      "text/plain": [
       "<Figure size 1152x432 with 2 Axes>"
      ]
     },
     "metadata": {
      "needs_background": "light"
     },
     "output_type": "display_data"
    }
   ],
   "source": [
    "# Plot a histogram of the data. Be sure to include a title and axis labels.\n",
    "\n",
    "# import matplotlib, not doing this produced histogram, but would not allow labels\n",
    "import matplotlib.pyplot as plt\n",
    "plt.figure(figsize=(16, 6))\n",
    "plt.subplot(1, 2, 1)\n",
    "data.plot.hist()\n",
    "plt.title('Data')\n",
    "plt.xlabel('Dollars')\n",
    "\n",
    "plt.subplot(1, 2, 2)\n",
    "data_bins.value_counts().plot.bar()\n",
    "plt.xticks([0, 1, 2, 3], ['-.5 to 1.2', '3 to 5', '1 to 3', '2 to 4'], rotation = 45)\n",
    "plt.title('Data in 4 Bins')\n",
    "plt.xlabel('Million Dollars')\n",
    "plt.show()"
   ]
  },
  {
   "cell_type": "code",
   "execution_count": 125,
   "metadata": {},
   "outputs": [],
   "source": [
    "# 3. Use pandas to create a Series from the following exam scores:\n",
    "# [60, 86, 75, 62, 93, 71, 60, 83, 95, 78, 65, 72, 69, 81, 96, 80, 85, 92, 82, 78]\n",
    "\n",
    "scores = pd.Series([60, 86, 75, 62, 93, 71, 60, 83, 95, 78, 65, 72, 69, 81, 96, 80, 85, 92, 82, 78])"
   ]
  },
  {
   "cell_type": "code",
   "execution_count": 166,
   "metadata": {},
   "outputs": [
    {
     "name": "stdout",
     "output_type": "stream",
     "text": [
      "Min = 60 Max= 96 Mean= 78.15 Median= 79.0\n"
     ]
    }
   ],
   "source": [
    "# What is the minimum exam score? The max, mean, median?\n",
    "print(\"Min =\", scores.min(), \"Max=\", scores.max(), \"Mean=\", scores.mean(), \"Median=\", scores.median())"
   ]
  },
  {
   "cell_type": "code",
   "execution_count": 129,
   "metadata": {},
   "outputs": [
    {
     "data": {
      "text/plain": [
       "<matplotlib.axes._subplots.AxesSubplot at 0x7fac04cf5090>"
      ]
     },
     "execution_count": 129,
     "metadata": {},
     "output_type": "execute_result"
    },
    {
     "data": {
      "image/png": "[encoded data removed]",
      "text/plain": [
       "<Figure size 432x288 with 1 Axes>"
      ]
     },
     "metadata": {
      "needs_background": "light"
     },
     "output_type": "display_data"
    }
   ],
   "source": [
    "# Plot a histogram of the scores.\n",
    "scores.plot.hist()"
   ]
  },
  {
   "cell_type": "code",
   "execution_count": 162,
   "metadata": {},
   "outputs": [
    {
     "data": {
      "text/plain": [
       "0     D\n",
       "1     B\n",
       "2     C\n",
       "3     D\n",
       "4     A\n",
       "5     C\n",
       "6     D\n",
       "7     B\n",
       "8     A\n",
       "9     C\n",
       "10    D\n",
       "11    C\n",
       "12    D\n",
       "13    B\n",
       "14    A\n",
       "15    B\n",
       "16    B\n",
       "17    A\n",
       "18    B\n",
       "19    C\n",
       "dtype: object"
      ]
     },
     "execution_count": 162,
     "metadata": {},
     "output_type": "execute_result"
    }
   ],
   "source": [
    "# Convert each of the numbers above into a letter grade. For example, 86 should be a 'B' and 95 should be an 'A'.\n",
    "\n",
    "# bring in letter grade function from python exercises\n",
    "def get_letter_grade(num):\n",
    "    # assertion to verify input is an integer\n",
    "    assert type(num) == int, \"invalid input\"\n",
    "    # if statements to find letter grade, only need minimum score because higher numbers will have already\n",
    "    # been assigned a letter\n",
    "    if num >= 90:\n",
    "        return(\"A\")\n",
    "    elif num >= 80:\n",
    "        return(\"B\")\n",
    "    elif num >= 70:\n",
    "        return(\"C\")\n",
    "    elif num >= 60:\n",
    "        return(\"D\")\n",
    "    else:\n",
    "        return(\"F\")\n",
    "    \n",
    "letter_grades = scores.apply(lambda n: get_letter_grade(n))\n",
    "letter_grades"
   ]
  },
  {
   "cell_type": "code",
   "execution_count": 168,
   "metadata": {},
   "outputs": [
    {
     "name": "stdout",
     "output_type": "stream",
     "text": [
      "Scores with curve:\n",
      "Min = 64 Max= 100 Mean= 82.15 Median= 83.0\n"
     ]
    }
   ],
   "source": [
    "# Write the code necessary to implement a curve. I.e. that grade closest to 100 should be converted to a 100,\n",
    "# and that many points should be given to every other score as well.\n",
    "curve = 100 - scores.max()\n",
    "scores = scores + curve\n",
    "print(\"Scores with curve:\")\n",
    "print(\"Min =\", scores.min(), \"Max=\", scores.max(), \"Mean=\", scores.mean(), \"Median=\", scores.median())"
   ]
  },
  {
   "cell_type": "code",
   "execution_count": 18,
   "metadata": {},
   "outputs": [],
   "source": [
    "# 4. Use pandas to create a Series from the following string:\n",
    "# 'hnvidduckkqxwymbimkccexbkmqygkxoyndmcxnwqarhyffsjpsrabtjzsypmzadfavyrnndndvswreauxovncxtwzpwejilzjrmmbbgbyxvjtewqthafnbkqplarokkyydtubbmnexoypulzwfhqvckdpqtpoppzqrmcvhhpwgjwupgzhiofohawytlsiyecuproguy'\n",
    "\n",
    "letters = pd.Series(list('hnvidduckkqxwymbimkccexbkmqygkxoyndmcxnwqarhyffsjpsrabtjzsypmzadfavyrnndndvswreauxovncxtwzpwejilzjrmmbbgbyxvjtewqthafnbkqplarokkyydtubbmnexoypulzwfhqvckdpqtpoppzqrmcvhhpwgjwupgzhiofohawytlsiyecuproguy'))\n"
   ]
  },
  {
   "cell_type": "code",
   "execution_count": 28,
   "metadata": {},
   "outputs": [
    {
     "name": "stdout",
     "output_type": "stream",
     "text": [
      "The most frequently occuring letter is y.\n",
      "The least frequently occuring letter is d.\n"
     ]
    }
   ],
   "source": [
    "# What is the most frequently occuring letter? Least frequently occuring?\n",
    "\n",
    "# the trick here is to make sure the Series is a list and not a str or the values_counts() won't work\n",
    "print(f'The most frequently occuring letter is {letters[letters.value_counts().max()]}.')\n",
    "print(f'The least frequently occuring letter is {letters[letters.value_counts().min()]}.')    "
   ]
  },
  {
   "cell_type": "code",
   "execution_count": 33,
   "metadata": {},
   "outputs": [
    {
     "name": "stdout",
     "output_type": "stream",
     "text": [
      "There are 34 vowels in the list\n"
     ]
    }
   ],
   "source": [
    "# How many vowels are in the list?\n",
    "\n",
    "# use count_vowels function to get 1 if character is a vowel and 0 if not\n",
    "letters_vowels = letters.apply(lambda n: count_vowels(n))\n",
    "# use .sum() to add for total\n",
    "print(f'There are {letters_vowels.sum()} vowels in the list.')"
   ]
  },
  {
   "cell_type": "code",
   "execution_count": 35,
   "metadata": {},
   "outputs": [
    {
     "name": "stdout",
     "output_type": "stream",
     "text": [
      "There are 166 in the list.\n"
     ]
    }
   ],
   "source": [
    "# How many consonants are in the list?\n",
    "\n",
    "# subtract count of vowels above from total count of list\n",
    "consonants = len(letters) - letters_vowels.sum()\n",
    "print(f'There are {consonants} in the list.')\n",
    "\n",
    "# SEE WALK THROUGH FOR ANOTHER COOL WAY TO DO THIS"
   ]
  },
  {
   "cell_type": "code",
   "execution_count": 39,
   "metadata": {},
   "outputs": [
    {
     "name": "stdout",
     "output_type": "stream",
     "text": [
      "0      H\n",
      "1      N\n",
      "2      V\n",
      "3      I\n",
      "4      D\n",
      "      ..\n",
      "195    R\n",
      "196    O\n",
      "197    G\n",
      "198    U\n",
      "199    Y\n",
      "Length: 200, dtype: object\n",
      "<class 'pandas.core.series.Series'>\n"
     ]
    }
   ],
   "source": [
    "# Create a series that has all of the same letters, but uppercased\n",
    "\n",
    "# for the .upper() to work must add .str \n",
    "uppercase_letters = letters.str.upper()\n",
    "# show letters are now uppercase\n",
    "print(uppercase_letters)\n",
    "# verify type is series\n",
    "print(type(uppercase_letters))"
   ]
  },
  {
   "cell_type": "code",
   "execution_count": 54,
   "metadata": {},
   "outputs": [
    {
     "data": {
      "text/plain": [
       "(array([0, 1, 2, 3, 4, 5, 6]), <a list of 7 Text xticklabel objects>)"
      ]
     },
     "execution_count": 54,
     "metadata": {},
     "output_type": "execute_result"
    },
    {
     "data": {
      "image/png": "[encoded data removed]",
      "text/plain": [
       "<Figure size 432x288 with 1 Axes>"
      ]
     },
     "metadata": {
      "needs_background": "light"
     },
     "output_type": "display_data"
    }
   ],
   "source": [
    "# Create a bar plot of the frequencies of the 6 most frequently occuring letters.\n",
    "\n",
    "# use value_count and nlargest again, but get 6 largest instead of only 1\n",
    "lettercount = letters.value_counts().nlargest(6, keep='all')\n",
    "# decided to keep all of the letters tied with a count of 9\n",
    "\n",
    "# create chart\n",
    "lettercount.plot.bar()\n",
    "# have to import matplotlib.pyplot to clean up presentation\n",
    "import matplotlib.pyplot as plt\n",
    "plt.title('6 most frequent letters inclusive of tie')\n",
    "plt.xticks(rotation=0)"
   ]
  },
  {
   "cell_type": "code",
   "execution_count": 3,
   "metadata": {},
   "outputs": [],
   "source": [
    "# 5. Complete the exercises from https://gist.github.com/ryanorsinger/f7d7c1dd6a328730c04f3dc5c5c69f3a, \n",
    "# but use pandas Series for the data structure instead of lists and use Series subsetting/indexing and \n",
    "# vectorization options instead of loops and lists.\n",
    "import pandas as pd\n"
   ]
  },
  {
   "cell_type": "code",
   "execution_count": 13,
   "metadata": {},
   "outputs": [],
   "source": [
    "# 17 list comprehension problems in python\n",
    "\n",
    "fruits = ['mango', 'kiwi', 'strawberry', 'guava', 'pineapple', 'mandarin orange']\n",
    "\n",
    "numbers = [2, 3, 4, 5, 6, 7, 8, 9, 10, 11, 13, 17, 19, 23, 256, -8, -4, -2, -5, -9]\n",
    "\n",
    "# Example for loop solution to add 1 to each number in the list\n",
    "numbers_plus_one = []\n",
    "for number in numbers:\n",
    "    numbers_plus_one.append(number + 1)\n",
    "\n",
    "# Example of using a list comprehension to create a list of the numbers plus one.\n",
    "numbers_plus_one = [number + 1 for number in numbers]\n",
    "\n",
    "# Example code that creates a list of all of the list of strings in fruits and uppercases every string\n",
    "output = []\n",
    "for fruit in fruits:\n",
    "    output.append(fruit.upper())\n",
    "    "
   ]
  },
  {
   "cell_type": "code",
   "execution_count": 16,
   "metadata": {},
   "outputs": [
    {
     "data": {
      "text/plain": [
       "0              MANGO\n",
       "1               KIWI\n",
       "2         STRAWBERRY\n",
       "3              GUAVA\n",
       "4          PINEAPPLE\n",
       "5    MANDARIN ORANGE\n",
       "dtype: object"
      ]
     },
     "execution_count": 16,
     "metadata": {},
     "output_type": "execute_result"
    }
   ],
   "source": [
    "# Exercise 1 - rewrite the above example code using list comprehension syntax. \n",
    "# Make a variable named uppercased_fruits to hold the output of the list comprehension. \n",
    "# Output should be ['MANGO', 'KIWI', etc...]\n",
    "\n",
    "# pandas is already imported, make fruits list a series\n",
    "fruits = pd.Series(fruits)\n",
    "# use .str with .upper to produce all uppercase\n",
    "fruits.str.upper()"
   ]
  },
  {
   "cell_type": "code",
   "execution_count": 18,
   "metadata": {},
   "outputs": [
    {
     "data": {
      "text/plain": [
       "0              Mango\n",
       "1               Kiwi\n",
       "2         Strawberry\n",
       "3              Guava\n",
       "4          Pineapple\n",
       "5    Mandarin Orange\n",
       "dtype: object"
      ]
     },
     "execution_count": 18,
     "metadata": {},
     "output_type": "execute_result"
    }
   ],
   "source": [
    "# Exercise 2 - create a variable named capitalized_fruits and use list comprehension syntax to produce \n",
    "# output like ['Mango', 'Kiwi', 'Strawberry', etc...]\n",
    "\n",
    "# use .str with .capitalize to produce capitalized series\n",
    "fruits.str.capitalize()\n",
    "\n",
    "# .str.title() might be better\n",
    "fruits.str.title()"
   ]
  },
  {
   "cell_type": "code",
   "execution_count": 65,
   "metadata": {},
   "outputs": [
    {
     "name": "stdout",
     "output_type": "stream",
     "text": [
      "0              mango\n",
      "1               kiwi\n",
      "2         strawberry\n",
      "3              guava\n",
      "4          pineapple\n",
      "5    mandarin orange\n",
      "dtype: object\n"
     ]
    }
   ],
   "source": [
    "# Exercise 3 - Use a list comprehension to make a variable named fruits_with_more_than_two_vowels. \n",
    "# Hint: You'll need a way to check if something is a vowel.\n",
    "\n",
    "# get a count of the vowels in each fruit in series\n",
    "fruits_vowels = fruits.apply(lambda n: count_vowels(n))\n",
    "# set requested variable to use above to index for fruits with more than 2 vowels, they all have more than 2 vowels\n",
    "fruits_with_more_than_two_vowels = fruits[fruits_vowels >= 2]\n",
    "# print variable to confirm results\n",
    "print(fruits_with_more_than_two_vowels)"
   ]
  },
  {
   "cell_type": "code",
   "execution_count": 66,
   "metadata": {},
   "outputs": [
    {
     "name": "stdout",
     "output_type": "stream",
     "text": [
      "0         mango\n",
      "1          kiwi\n",
      "2    strawberry\n",
      "dtype: object\n"
     ]
    }
   ],
   "source": [
    "# Exercise 4 - make a variable named fruits_with_only_two_vowels. \n",
    "# The result should be ['mango', 'kiwi', 'strawberry']\n",
    "\n",
    "# set requested variable using variable defined above to find == instead of >=\n",
    "fruits_with_only_two_vowels = fruits[fruits_vowels == 2]\n",
    "# print variable to confirm results\n",
    "print(fruits_with_only_two_vowels)"
   ]
  },
  {
   "cell_type": "code",
   "execution_count": 21,
   "metadata": {},
   "outputs": [
    {
     "name": "stdout",
     "output_type": "stream",
     "text": [
      "2         strawberry\n",
      "4          pineapple\n",
      "5    mandarin orange\n",
      "dtype: object\n"
     ]
    }
   ],
   "source": [
    "# Exercise 5 - make a list that contains each fruit with more than 5 characters\n",
    "\n",
    "# find the length of all fruits in series\n",
    "len_fruits = fruits.str.len()\n",
    "# use that variable to list fruits where length > 5\n",
    "more_than_5_char = fruits[len_fruits > 5]\n",
    "# print variable to confirm results\n",
    "print(more_than_5_char)"
   ]
  },
  {
   "cell_type": "code",
   "execution_count": 22,
   "metadata": {},
   "outputs": [
    {
     "name": "stdout",
     "output_type": "stream",
     "text": [
      "0    mango\n",
      "3    guava\n",
      "dtype: object\n"
     ]
    }
   ],
   "source": [
    "# Exercise 6 - make a list that contains each fruit with exactly 5 characters\n",
    "\n",
    "# use len_fruits variable as above, but where length == 5\n",
    "exactly_5_char = fruits[len_fruits == 5]\n",
    "# print variable to confirm results\n",
    "print(exactly_5_char)"
   ]
  },
  {
   "cell_type": "code",
   "execution_count": 24,
   "metadata": {},
   "outputs": [
    {
     "name": "stdout",
     "output_type": "stream",
     "text": [
      "1    kiwi\n",
      "dtype: object\n"
     ]
    },
    {
     "data": {
      "text/plain": [
       "dtype('O')"
      ]
     },
     "execution_count": 24,
     "metadata": {},
     "output_type": "execute_result"
    }
   ],
   "source": [
    "# Exercise 7 - Make a list that contains fruits that have less than 5 characters\n",
    "\n",
    "# use len_fruits as above, but where length < 5\n",
    "less_than_5_char = fruits[len_fruits < 5]\n",
    "# print variable to confirm results\n",
    "print(less_than_5_char)\n",
    "less_than_5_char.dtype"
   ]
  },
  {
   "cell_type": "code",
   "execution_count": 73,
   "metadata": {},
   "outputs": [
    {
     "name": "stdout",
     "output_type": "stream",
     "text": [
      "0     5\n",
      "1     4\n",
      "2    10\n",
      "3     5\n",
      "4     9\n",
      "5    15\n",
      "dtype: int64\n"
     ]
    }
   ],
   "source": [
    "# Exercise 8 - Make a list containing the number of characters in each fruit.\n",
    "# Output would be [5, 4, 10, etc... ]\n",
    "\n",
    "# to see this print len_fruits variable\n",
    "print(len_fruits)"
   ]
  },
  {
   "cell_type": "code",
   "execution_count": 76,
   "metadata": {},
   "outputs": [
    {
     "name": "stdout",
     "output_type": "stream",
     "text": [
      "0              mango\n",
      "2         strawberry\n",
      "3              guava\n",
      "4          pineapple\n",
      "5    mandarin orange\n",
      "dtype: object\n"
     ]
    }
   ],
   "source": [
    "# Exercise 9 - Make a variable named fruits_with_letter_a that contains a list of only the fruits\n",
    "# that contain the letter \"a\"\n",
    "\n",
    "# set requested variable, use .str.count to find count of letter a in each fruit\n",
    "# use that to index list where count is greater than 0\n",
    "fruits_with_letter_a = fruits[fruits.str.count('a') > 0]\n",
    "# print variable to confirm results\n",
    "print(fruits_with_letter_a)"
   ]
  },
  {
   "cell_type": "code",
   "execution_count": 25,
   "metadata": {},
   "outputs": [
    {
     "name": "stdout",
     "output_type": "stream",
     "text": [
      "0       2\n",
      "2       4\n",
      "4       6\n",
      "6       8\n",
      "8      10\n",
      "14    256\n",
      "15     -8\n",
      "16     -4\n",
      "17     -2\n",
      "dtype: int64\n"
     ]
    }
   ],
   "source": [
    "# Exercise 10 - Make a variable named even_numbers that holds only the even numbers \n",
    "\n",
    "# make numbers list into pandas series\n",
    "numbers = pd.Series(numbers)\n",
    "\n",
    "# set variable to requested use comparison operator to index for even\n",
    "even_numbers = numbers[numbers % 2 == 0]\n",
    "# print variable to confirm results\n",
    "print(even_numbers)"
   ]
  },
  {
   "cell_type": "code",
   "execution_count": 122,
   "metadata": {},
   "outputs": [
    {
     "name": "stdout",
     "output_type": "stream",
     "text": [
      "1      3\n",
      "3      5\n",
      "5      7\n",
      "7      9\n",
      "9     11\n",
      "10    13\n",
      "11    17\n",
      "12    19\n",
      "13    23\n",
      "18    -5\n",
      "19    -9\n",
      "dtype: int64\n"
     ]
    }
   ],
   "source": [
    "# Exercise 11 - Make a variable named odd_numbers that holds only the odd numbers\n",
    "\n",
    "# set variable to requested use comparison operator to index for odd\n",
    "odd_numbers = numbers[numbers % 2 == 1]\n",
    "# print variable to confirm results\n",
    "print(odd_numbers)"
   ]
  },
  {
   "cell_type": "code",
   "execution_count": 123,
   "metadata": {},
   "outputs": [
    {
     "name": "stdout",
     "output_type": "stream",
     "text": [
      "0       2\n",
      "1       3\n",
      "2       4\n",
      "3       5\n",
      "4       6\n",
      "5       7\n",
      "6       8\n",
      "7       9\n",
      "8      10\n",
      "9      11\n",
      "10     13\n",
      "11     17\n",
      "12     19\n",
      "13     23\n",
      "14    256\n",
      "dtype: int64\n"
     ]
    }
   ],
   "source": [
    "# Exercise 12 - Make a variable named positive_numbers that holds only the positive numbers\n",
    "\n",
    "# set variable to requested use comparison operator to index for > 0\n",
    "positive_numbers = numbers[numbers > 0]\n",
    "# print variable to confirm results\n",
    "print(positive_numbers)"
   ]
  },
  {
   "cell_type": "code",
   "execution_count": 124,
   "metadata": {},
   "outputs": [
    {
     "name": "stdout",
     "output_type": "stream",
     "text": [
      "15   -8\n",
      "16   -4\n",
      "17   -2\n",
      "18   -5\n",
      "19   -9\n",
      "dtype: int64\n"
     ]
    }
   ],
   "source": [
    "# Exercise 13 - Make a variable named negative_numbers that holds only the negative numbers\n",
    "\n",
    "# set variable to requested use comparison operator to index for < 0\n",
    "negative_numbers = numbers[numbers < 0]\n",
    "# print variable to confirm results\n",
    "print(negative_numbers)"
   ]
  },
  {
   "cell_type": "code",
   "execution_count": 125,
   "metadata": {},
   "outputs": [
    {
     "name": "stdout",
     "output_type": "stream",
     "text": [
      "8      10\n",
      "9      11\n",
      "10     13\n",
      "11     17\n",
      "12     19\n",
      "13     23\n",
      "14    256\n",
      "dtype: int64\n"
     ]
    }
   ],
   "source": [
    "# Exercise 14 - use a list comprehension w/ a conditional in order to produce a \n",
    "# list of numbers with 2 or more numerals\n",
    "\n",
    "# use comparison operators with or\n",
    "two_more_digits = numbers[(numbers < -9) | (numbers > 9)]\n",
    "# print variable to confirm results, note: there aren't any numbers < -9 in the list\n",
    "print(two_more_digits)"
   ]
  },
  {
   "cell_type": "code",
   "execution_count": 7,
   "metadata": {},
   "outputs": [
    {
     "data": {
      "text/plain": [
       "0         4\n",
       "1         9\n",
       "2        16\n",
       "3        25\n",
       "4        36\n",
       "5        49\n",
       "6        64\n",
       "7        81\n",
       "8       100\n",
       "9       121\n",
       "10      169\n",
       "11      289\n",
       "12      361\n",
       "13      529\n",
       "14    65536\n",
       "15       64\n",
       "16       16\n",
       "17        4\n",
       "18       25\n",
       "19       81\n",
       "dtype: int64"
      ]
     },
     "execution_count": 7,
     "metadata": {},
     "output_type": "execute_result"
    }
   ],
   "source": [
    "# Exercise 15 - Make a variable named numbers_squared that contains the numbers \n",
    "# list with each element squared. Output is [4, 9, 16, etc...]\n",
    "\n",
    "# pandas makes this almost too easy...\n",
    "numbers_squared = numbers ** 2\n",
    "numbers_squared"
   ]
  },
  {
   "cell_type": "code",
   "execution_count": 127,
   "metadata": {},
   "outputs": [
    {
     "name": "stdout",
     "output_type": "stream",
     "text": [
      "18   -5\n",
      "19   -9\n",
      "dtype: int64\n"
     ]
    }
   ],
   "source": [
    "# Exercise 16 - Make a variable named odd_negative_numbers that contains only the numbers that are both \n",
    "# odd and negative.\n",
    "\n",
    "# use comparison operators with and\n",
    "odd_negative_numbers = numbers[(numbers < 0) & (numbers % 2 == 1)]\n",
    "# print variable to confirm results\n",
    "print(odd_negative_numbers)"
   ]
  },
  {
   "cell_type": "code",
   "execution_count": 128,
   "metadata": {},
   "outputs": [
    {
     "name": "stdout",
     "output_type": "stream",
     "text": [
      "0       7\n",
      "1       8\n",
      "2       9\n",
      "3      10\n",
      "4      11\n",
      "5      12\n",
      "6      13\n",
      "7      14\n",
      "8      15\n",
      "9      16\n",
      "10     18\n",
      "11     22\n",
      "12     24\n",
      "13     28\n",
      "14    261\n",
      "15     -3\n",
      "16      1\n",
      "17      3\n",
      "18      0\n",
      "19     -4\n",
      "dtype: int64\n"
     ]
    }
   ],
   "source": [
    "# Exercise 17 - Make a variable named numbers_plus_5. In it, return a list containing each number plus five. \n",
    "\n",
    "# pandas will make this easy\n",
    "numbers_plus_5 = numbers + 5\n",
    "# print variable to confirm results\n",
    "print(numbers_plus_5)"
   ]
  },
  {
   "cell_type": "code",
   "execution_count": 130,
   "metadata": {},
   "outputs": [
    {
     "name": "stdout",
     "output_type": "stream",
     "text": [
      "0      2\n",
      "1      3\n",
      "3      5\n",
      "5      7\n",
      "9     11\n",
      "10    13\n",
      "11    17\n",
      "12    19\n",
      "13    23\n",
      "dtype: int64\n"
     ]
    }
   ],
   "source": [
    "# BONUS Make a variable named \"primes\" that is a list containing the prime numbers in the numbers list. \n",
    "# *Hint* you may want to make or find a helper function that determines if a given number is prime or not.\n",
    "\n",
    "# bring in previously defined function to find primes\n",
    "def is_prime(num):\n",
    "    if num <= 1:\n",
    "        return False\n",
    "    for i in range(2, num):\n",
    "        if (num % i) == 0:\n",
    "            return False\n",
    "    else:\n",
    "        return True\n",
    "\n",
    "# apply function to get list of bool for which in series are prime\n",
    "bools = numbers.apply(is_prime)\n",
    "# check bools list, primes function not handling negative numbers\n",
    "# print(bools) -- commented out once bools list is clean\n",
    "# use bools to get list of primes \n",
    "primes = numbers[bools]\n",
    "# print to verify results\n",
    "print(primes)"
   ]
  },
  {
   "cell_type": "code",
   "execution_count": null,
   "metadata": {},
   "outputs": [],
   "source": []
  }
 ],
 "metadata": {
  "kernelspec": {
   "display_name": "Python 3",
   "language": "python",
   "name": "python3"
  },
  "language_info": {
   "codemirror_mode": {
    "name": "ipython",
    "version": 3
   },
   "file_extension": ".py",
   "mimetype": "text/x-python",
   "name": "python",
   "nbconvert_exporter": "python",
   "pygments_lexer": "ipython3",
   "version": "3.7.6"
  }
 },
 "nbformat": 4,
 "nbformat_minor": 4
}
