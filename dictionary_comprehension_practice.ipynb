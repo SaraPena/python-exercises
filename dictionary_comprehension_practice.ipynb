{
 "cells": [
  {
   "cell_type": "markdown",
   "metadata": {},
   "source": [
    "# Dictionary Comprehension "
   ]
  },
  {
   "cell_type": "code",
   "execution_count": 124,
   "metadata": {},
   "outputs": [],
   "source": [
    "import json"
   ]
  },
  {
   "cell_type": "code",
   "execution_count": 125,
   "metadata": {},
   "outputs": [
    {
     "data": {
      "text/plain": [
       "{'0': {'id': '100001',\n",
       "  'student': 'Ada Lovelace',\n",
       "  'coffee_preference': 'light',\n",
       "  'course': 'web development',\n",
       "  'grades': [70, 91, 82, 71],\n",
       "  'pets': [{'species': 'horse', 'age': 8}]},\n",
       " '1': {'id': '100002',\n",
       "  'student': 'Thomas Bayes',\n",
       "  'coffee_preference': 'medium',\n",
       "  'course': 'data science',\n",
       "  'grades': [75, 73, 86, 100],\n",
       "  'pets': []},\n",
       " '2': {'id': '100003',\n",
       "  'student': 'Marie Curie',\n",
       "  'coffee_preference': 'light',\n",
       "  'course': 'web development',\n",
       "  'grades': [70, 89, 69, 65],\n",
       "  'pets': [{'species': 'cat', 'age': 0}]},\n",
       " '3': {'id': '100004',\n",
       "  'student': 'Grace Hopper',\n",
       "  'coffee_preference': 'dark',\n",
       "  'course': 'data science',\n",
       "  'grades': [73, 66, 83, 92],\n",
       "  'pets': [{'species': 'dog', 'age': 4}, {'species': 'cat', 'age': 4}]},\n",
       " '4': {'id': '100005',\n",
       "  'student': 'Alan Turing',\n",
       "  'coffee_preference': 'dark',\n",
       "  'course': 'web development',\n",
       "  'grades': [78, 98, 85, 65],\n",
       "  'pets': [{'species': 'horse', 'age': 6},\n",
       "   {'species': 'horse', 'age': 7},\n",
       "   {'species': 'dog', 'age': 5}]},\n",
       " '5': {'id': '100006',\n",
       "  'student': 'Rosalind Franklin',\n",
       "  'coffee_preference': 'dark',\n",
       "  'course': 'data science',\n",
       "  'grades': [76, 70, 96, 81],\n",
       "  'pets': []},\n",
       " '6': {'id': '100007',\n",
       "  'student': 'Elizabeth Blackwell',\n",
       "  'coffee_preference': 'dark',\n",
       "  'course': 'web development',\n",
       "  'grades': [69, 94, 89, 86],\n",
       "  'pets': [{'species': 'cat', 'age': 10}]},\n",
       " '7': {'id': '100008',\n",
       "  'student': 'Rene Descartes',\n",
       "  'coffee_preference': 'medium',\n",
       "  'course': 'data science',\n",
       "  'grades': [87, 79, 90, 99],\n",
       "  'pets': [{'species': 'cat', 'age': 10}, {'species': 'cat', 'age': 8}]},\n",
       " '8': {'id': '100009',\n",
       "  'student': 'Ahmed Zewail',\n",
       "  'coffee_preference': 'medium',\n",
       "  'course': 'data science',\n",
       "  'grades': [74, 99, 93, 89],\n",
       "  'pets': [{'species': 'cat', 'age': 0}, {'species': 'cat', 'age': 0}]},\n",
       " '9': {'id': '100010',\n",
       "  'student': 'Chien-Shiung Wu',\n",
       "  'coffee_preference': 'medium',\n",
       "  'course': 'web development',\n",
       "  'grades': [82, 92, 91, 65],\n",
       "  'pets': [{'species': 'cat', 'age': 8}]},\n",
       " '10': {'id': '100011',\n",
       "  'student': 'William Sanford Nye',\n",
       "  'coffee_preference': 'dark',\n",
       "  'course': 'data science',\n",
       "  'grades': [70, 92, 65, 99],\n",
       "  'pets': [{'species': 'cat', 'age': 8}, {'species': 'cat', 'age': 5}]},\n",
       " '11': {'id': '100012',\n",
       "  'student': 'Carl Sagan',\n",
       "  'coffee_preference': 'medium',\n",
       "  'course': 'data science',\n",
       "  'grades': [100, 86, 91, 87],\n",
       "  'pets': [{'species': 'cat', 'age': 10}]},\n",
       " '12': {'id': '100013',\n",
       "  'student': 'Jane Goodall',\n",
       "  'coffee_preference': 'light',\n",
       "  'course': 'web development',\n",
       "  'grades': [80, 70, 68, 98],\n",
       "  'pets': [{'species': 'horse', 'age': 4}]},\n",
       " '13': {'id': '100014',\n",
       "  'student': 'Richard Feynman',\n",
       "  'coffee_preference': 'medium',\n",
       "  'course': 'web development',\n",
       "  'grades': [73, 99, 86, 98],\n",
       "  'pets': [{'species': 'dog', 'age': 6}]}}"
      ]
     },
     "execution_count": 125,
     "metadata": {},
     "output_type": "execute_result"
    }
   ],
   "source": [
    "with open('students.json', encoding='utf-8') as f:\n",
    "    students = json.load(f)\n",
    "    \n",
    "students"
   ]
  },
  {
   "cell_type": "code",
   "execution_count": 126,
   "metadata": {},
   "outputs": [
    {
     "data": {
      "text/plain": [
       "{0: {'id': '100001',\n",
       "  'student': 'Ada Lovelace',\n",
       "  'coffee_preference': 'light',\n",
       "  'course': 'web development',\n",
       "  'grades': [70, 91, 82, 71],\n",
       "  'pets': [{'species': 'horse', 'age': 8}]},\n",
       " 1: {'id': '100002',\n",
       "  'student': 'Thomas Bayes',\n",
       "  'coffee_preference': 'medium',\n",
       "  'course': 'data science',\n",
       "  'grades': [75, 73, 86, 100],\n",
       "  'pets': []},\n",
       " 2: {'id': '100003',\n",
       "  'student': 'Marie Curie',\n",
       "  'coffee_preference': 'light',\n",
       "  'course': 'web development',\n",
       "  'grades': [70, 89, 69, 65],\n",
       "  'pets': [{'species': 'cat', 'age': 0}]},\n",
       " 3: {'id': '100004',\n",
       "  'student': 'Grace Hopper',\n",
       "  'coffee_preference': 'dark',\n",
       "  'course': 'data science',\n",
       "  'grades': [73, 66, 83, 92],\n",
       "  'pets': [{'species': 'dog', 'age': 4}, {'species': 'cat', 'age': 4}]},\n",
       " 4: {'id': '100005',\n",
       "  'student': 'Alan Turing',\n",
       "  'coffee_preference': 'dark',\n",
       "  'course': 'web development',\n",
       "  'grades': [78, 98, 85, 65],\n",
       "  'pets': [{'species': 'horse', 'age': 6},\n",
       "   {'species': 'horse', 'age': 7},\n",
       "   {'species': 'dog', 'age': 5}]},\n",
       " 5: {'id': '100006',\n",
       "  'student': 'Rosalind Franklin',\n",
       "  'coffee_preference': 'dark',\n",
       "  'course': 'data science',\n",
       "  'grades': [76, 70, 96, 81],\n",
       "  'pets': []},\n",
       " 6: {'id': '100007',\n",
       "  'student': 'Elizabeth Blackwell',\n",
       "  'coffee_preference': 'dark',\n",
       "  'course': 'web development',\n",
       "  'grades': [69, 94, 89, 86],\n",
       "  'pets': [{'species': 'cat', 'age': 10}]},\n",
       " 7: {'id': '100008',\n",
       "  'student': 'Rene Descartes',\n",
       "  'coffee_preference': 'medium',\n",
       "  'course': 'data science',\n",
       "  'grades': [87, 79, 90, 99],\n",
       "  'pets': [{'species': 'cat', 'age': 10}, {'species': 'cat', 'age': 8}]},\n",
       " 8: {'id': '100009',\n",
       "  'student': 'Ahmed Zewail',\n",
       "  'coffee_preference': 'medium',\n",
       "  'course': 'data science',\n",
       "  'grades': [74, 99, 93, 89],\n",
       "  'pets': [{'species': 'cat', 'age': 0}, {'species': 'cat', 'age': 0}]},\n",
       " 9: {'id': '100010',\n",
       "  'student': 'Chien-Shiung Wu',\n",
       "  'coffee_preference': 'medium',\n",
       "  'course': 'web development',\n",
       "  'grades': [82, 92, 91, 65],\n",
       "  'pets': [{'species': 'cat', 'age': 8}]},\n",
       " 10: {'id': '100011',\n",
       "  'student': 'William Sanford Nye',\n",
       "  'coffee_preference': 'dark',\n",
       "  'course': 'data science',\n",
       "  'grades': [70, 92, 65, 99],\n",
       "  'pets': [{'species': 'cat', 'age': 8}, {'species': 'cat', 'age': 5}]},\n",
       " 11: {'id': '100012',\n",
       "  'student': 'Carl Sagan',\n",
       "  'coffee_preference': 'medium',\n",
       "  'course': 'data science',\n",
       "  'grades': [100, 86, 91, 87],\n",
       "  'pets': [{'species': 'cat', 'age': 10}]},\n",
       " 12: {'id': '100013',\n",
       "  'student': 'Jane Goodall',\n",
       "  'coffee_preference': 'light',\n",
       "  'course': 'web development',\n",
       "  'grades': [80, 70, 68, 98],\n",
       "  'pets': [{'species': 'horse', 'age': 4}]},\n",
       " 13: {'id': '100014',\n",
       "  'student': 'Richard Feynman',\n",
       "  'coffee_preference': 'medium',\n",
       "  'course': 'web development',\n",
       "  'grades': [73, 99, 86, 98],\n",
       "  'pets': [{'species': 'dog', 'age': 6}]}}"
      ]
     },
     "execution_count": 126,
     "metadata": {},
     "output_type": "execute_result"
    }
   ],
   "source": [
    "students = {int(k):v for k,v in students.items()}\n",
    "students"
   ]
  },
  {
   "cell_type": "markdown",
   "metadata": {},
   "source": [
    "The following questions reference the students data structure below. Write the python code to answer the following questions:"
   ]
  },
  {
   "cell_type": "markdown",
   "metadata": {},
   "source": [
    "How many students are there?"
   ]
  },
  {
   "cell_type": "code",
   "execution_count": 127,
   "metadata": {},
   "outputs": [
    {
     "data": {
      "text/plain": [
       "14"
      ]
     },
     "execution_count": 127,
     "metadata": {},
     "output_type": "execute_result"
    }
   ],
   "source": [
    "len({k:v for k,v in students.items()})"
   ]
  },
  {
   "cell_type": "markdown",
   "metadata": {},
   "source": [
    "How many students prefer light coffee? For each type of coffee roast?"
   ]
  },
  {
   "cell_type": "code",
   "execution_count": 128,
   "metadata": {},
   "outputs": [
    {
     "data": {
      "text/plain": [
       "['light',\n",
       " 'medium',\n",
       " 'light',\n",
       " 'dark',\n",
       " 'dark',\n",
       " 'dark',\n",
       " 'dark',\n",
       " 'medium',\n",
       " 'medium',\n",
       " 'medium',\n",
       " 'dark',\n",
       " 'medium',\n",
       " 'light',\n",
       " 'medium']"
      ]
     },
     "execution_count": 128,
     "metadata": {},
     "output_type": "execute_result"
    }
   ],
   "source": [
    "coffee_pref_list = list({k:v['coffee_preference'] for k,v in students.items()}.values())\n",
    "coffee_pref_list"
   ]
  },
  {
   "cell_type": "code",
   "execution_count": 129,
   "metadata": {
    "scrolled": true
   },
   "outputs": [
    {
     "data": {
      "text/plain": [
       "{'light': 3, 'medium': 6, 'dark': 5}"
      ]
     },
     "execution_count": 129,
     "metadata": {},
     "output_type": "execute_result"
    }
   ],
   "source": [
    "{item:coffee_pref_list.count(item) for item in coffee_pref_list}"
   ]
  },
  {
   "cell_type": "code",
   "execution_count": 130,
   "metadata": {},
   "outputs": [],
   "source": [
    "# another way\n",
    "coffee_pref_list = list({k:v.get('coffee_preference') for k,v in students.items()}.values())"
   ]
  },
  {
   "cell_type": "code",
   "execution_count": 131,
   "metadata": {},
   "outputs": [
    {
     "data": {
      "text/plain": [
       "{'light': 3, 'medium': 6, 'dark': 5}"
      ]
     },
     "execution_count": 131,
     "metadata": {},
     "output_type": "execute_result"
    }
   ],
   "source": [
    "{item:coffee_pref_list.count(item) for item in coffee_pref_list}"
   ]
  },
  {
   "cell_type": "markdown",
   "metadata": {},
   "source": [
    "How many types of each pet are there?"
   ]
  },
  {
   "cell_type": "code",
   "execution_count": 132,
   "metadata": {},
   "outputs": [
    {
     "data": {
      "text/plain": [
       "{0: ['horse'],\n",
       " 1: [],\n",
       " 2: ['cat'],\n",
       " 3: ['dog', 'cat'],\n",
       " 4: ['horse', 'horse', 'dog'],\n",
       " 5: [],\n",
       " 6: ['cat'],\n",
       " 7: ['cat', 'cat'],\n",
       " 8: ['cat', 'cat'],\n",
       " 9: ['cat'],\n",
       " 10: ['cat', 'cat'],\n",
       " 11: ['cat'],\n",
       " 12: ['horse'],\n",
       " 13: ['dog']}"
      ]
     },
     "execution_count": 132,
     "metadata": {},
     "output_type": "execute_result"
    }
   ],
   "source": [
    "species_dict = {k:[v['pets'][x]['species'] for x in range(len(v['pets']))]  for k,v in students.items()}\n",
    "species_dict"
   ]
  },
  {
   "cell_type": "code",
   "execution_count": 133,
   "metadata": {},
   "outputs": [],
   "source": [
    "species_list = \",\".join([\", \".join(v) for k,v in species_dict.items()]).replace(\" \", \"\").replace(',,', ',').split(',')"
   ]
  },
  {
   "cell_type": "code",
   "execution_count": 134,
   "metadata": {},
   "outputs": [
    {
     "data": {
      "text/plain": [
       "{'horse': 4, 'cat': 11, 'dog': 3}"
      ]
     },
     "execution_count": 134,
     "metadata": {},
     "output_type": "execute_result"
    }
   ],
   "source": [
    "{item:species_list.count(item) for item in species_list}"
   ]
  },
  {
   "cell_type": "markdown",
   "metadata": {},
   "source": [
    "How many grades does each student have? Do they all have the same number of grades?"
   ]
  },
  {
   "cell_type": "code",
   "execution_count": 135,
   "metadata": {},
   "outputs": [],
   "source": [
    "student_grades_dict = {k:len(v.get('grades', 'na')) for k,v in students.items()}"
   ]
  },
  {
   "cell_type": "code",
   "execution_count": 136,
   "metadata": {},
   "outputs": [],
   "source": [
    "amount_of_grades_list = list(student_grades_dict.values())"
   ]
  },
  {
   "cell_type": "code",
   "execution_count": 137,
   "metadata": {},
   "outputs": [
    {
     "data": {
      "text/plain": [
       "{4: 14}"
      ]
     },
     "execution_count": 137,
     "metadata": {},
     "output_type": "execute_result"
    }
   ],
   "source": [
    "{amount:amount_of_grades_list.count(amount) for amount in amount_of_grades_list}"
   ]
  },
  {
   "cell_type": "markdown",
   "metadata": {},
   "source": [
    "What is each student's grade average?"
   ]
  },
  {
   "cell_type": "code",
   "execution_count": 138,
   "metadata": {},
   "outputs": [
    {
     "data": {
      "text/plain": [
       "{'Ada Lovelace': 78.5,\n",
       " 'Thomas Bayes': 83.5,\n",
       " 'Marie Curie': 73.25,\n",
       " 'Grace Hopper': 78.5,\n",
       " 'Alan Turing': 81.5,\n",
       " 'Rosalind Franklin': 80.75,\n",
       " 'Elizabeth Blackwell': 84.5,\n",
       " 'Rene Descartes': 88.75,\n",
       " 'Ahmed Zewail': 88.75,\n",
       " 'Chien-Shiung Wu': 82.5,\n",
       " 'William Sanford Nye': 81.5,\n",
       " 'Carl Sagan': 91.0,\n",
       " 'Jane Goodall': 79.0,\n",
       " 'Richard Feynman': 89.0}"
      ]
     },
     "execution_count": 138,
     "metadata": {},
     "output_type": "execute_result"
    }
   ],
   "source": [
    "{ v['student']: sum(v['grades'])/len(v['grades']) for k,v in students.items()}"
   ]
  },
  {
   "cell_type": "markdown",
   "metadata": {},
   "source": [
    "How many pets does each student have?"
   ]
  },
  {
   "cell_type": "code",
   "execution_count": 139,
   "metadata": {},
   "outputs": [
    {
     "data": {
      "text/plain": [
       "dict"
      ]
     },
     "execution_count": 139,
     "metadata": {},
     "output_type": "execute_result"
    }
   ],
   "source": [
    "type((dict(students.items()))[0])"
   ]
  },
  {
   "cell_type": "code",
   "execution_count": 140,
   "metadata": {},
   "outputs": [
    {
     "data": {
      "text/plain": [
       "{'Ada Lovelace': 1,\n",
       " 'Thomas Bayes': 0,\n",
       " 'Marie Curie': 1,\n",
       " 'Grace Hopper': 2,\n",
       " 'Alan Turing': 3,\n",
       " 'Rosalind Franklin': 0,\n",
       " 'Elizabeth Blackwell': 1,\n",
       " 'Rene Descartes': 2,\n",
       " 'Ahmed Zewail': 2,\n",
       " 'Chien-Shiung Wu': 1,\n",
       " 'William Sanford Nye': 2,\n",
       " 'Carl Sagan': 1,\n",
       " 'Jane Goodall': 1,\n",
       " 'Richard Feynman': 1}"
      ]
     },
     "execution_count": 140,
     "metadata": {},
     "output_type": "execute_result"
    }
   ],
   "source": [
    "{v['student']:len(v['pets']) for k,v in students.items()}"
   ]
  },
  {
   "cell_type": "markdown",
   "metadata": {},
   "source": [
    "How many students are in web development? data science?"
   ]
  },
  {
   "cell_type": "code",
   "execution_count": 141,
   "metadata": {},
   "outputs": [],
   "source": [
    "students = list(students.values())"
   ]
  },
  {
   "cell_type": "code",
   "execution_count": 142,
   "metadata": {},
   "outputs": [],
   "source": [
    "count_students = len(students)"
   ]
  },
  {
   "cell_type": "code",
   "execution_count": 143,
   "metadata": {},
   "outputs": [
    {
     "data": {
      "text/plain": [
       "['web development',\n",
       " 'data science',\n",
       " 'web development',\n",
       " 'data science',\n",
       " 'web development',\n",
       " 'data science',\n",
       " 'web development',\n",
       " 'data science',\n",
       " 'data science',\n",
       " 'web development',\n",
       " 'data science',\n",
       " 'data science',\n",
       " 'web development',\n",
       " 'web development']"
      ]
     },
     "execution_count": 143,
     "metadata": {},
     "output_type": "execute_result"
    }
   ],
   "source": [
    "student_course_list = [students[x]['course'] for x in range(count_students)]\n",
    "student_course_list"
   ]
  },
  {
   "cell_type": "code",
   "execution_count": 144,
   "metadata": {
    "scrolled": false
   },
   "outputs": [
    {
     "data": {
      "text/plain": [
       "{'web development': 7, 'data science': 7}"
      ]
     },
     "execution_count": 144,
     "metadata": {},
     "output_type": "execute_result"
    }
   ],
   "source": [
    "{course:student_course_list.count(course) for course in student_course_list}"
   ]
  },
  {
   "cell_type": "markdown",
   "metadata": {},
   "source": [
    "What is the average number of pets for students in web development?"
   ]
  },
  {
   "cell_type": "code",
   "execution_count": 145,
   "metadata": {},
   "outputs": [
    {
     "data": {
      "text/plain": [
       "{'Ada Lovelace': 1,\n",
       " 'Marie Curie': 1,\n",
       " 'Alan Turing': 3,\n",
       " 'Elizabeth Blackwell': 1,\n",
       " 'Chien-Shiung Wu': 1,\n",
       " 'Jane Goodall': 1,\n",
       " 'Richard Feynman': 1}"
      ]
     },
     "execution_count": 145,
     "metadata": {},
     "output_type": "execute_result"
    }
   ],
   "source": [
    "web_dev_pet_count_dict = {v['student']:len(v['pets']) for v in students if v['course'] == 'web development'}\n",
    "web_dev_pet_count_dict"
   ]
  },
  {
   "cell_type": "code",
   "execution_count": 146,
   "metadata": {},
   "outputs": [
    {
     "data": {
      "text/plain": [
       "1.2857142857142858"
      ]
     },
     "execution_count": 146,
     "metadata": {},
     "output_type": "execute_result"
    }
   ],
   "source": [
    "sum(web_dev_pet_count_dict.values())/len(web_dev_pet_count_dict)"
   ]
  },
  {
   "cell_type": "markdown",
   "metadata": {},
   "source": [
    "What is the average pet age for students in data science?"
   ]
  },
  {
   "cell_type": "code",
   "execution_count": 147,
   "metadata": {},
   "outputs": [
    {
     "data": {
      "text/plain": [
       "{'Thomas Bayes': [],\n",
       " 'Grace Hopper': [4, 4],\n",
       " 'Rosalind Franklin': [],\n",
       " 'Rene Descartes': [10, 8],\n",
       " 'Ahmed Zewail': [0, 0],\n",
       " 'William Sanford Nye': [8, 5],\n",
       " 'Carl Sagan': [10]}"
      ]
     },
     "execution_count": 147,
     "metadata": {},
     "output_type": "execute_result"
    }
   ],
   "source": [
    "data_science_pets_age_dict = {v['student']:[v['pets'][x]['age'] for x in range(len(v['pets']))] for v in students if v['course'] == 'data science'}\n",
    "data_science_pets_age_dict"
   ]
  },
  {
   "cell_type": "code",
   "execution_count": 148,
   "metadata": {},
   "outputs": [
    {
     "data": {
      "text/plain": [
       "[[], [4, 4], [], [10, 8], [0, 0], [8, 5], [10]]"
      ]
     },
     "execution_count": 148,
     "metadata": {},
     "output_type": "execute_result"
    }
   ],
   "source": [
    "ds_pet_age_list = list(data_science_pets_age_dict.values())\n",
    "ds_pet_age_list"
   ]
  },
  {
   "cell_type": "code",
   "execution_count": 149,
   "metadata": {},
   "outputs": [
    {
     "data": {
      "text/plain": [
       "[4, 4, 10, 8, 0, 0, 8, 5, 10]"
      ]
     },
     "execution_count": 149,
     "metadata": {},
     "output_type": "execute_result"
    }
   ],
   "source": [
    "a =[]\n",
    "[[a.append(int(pet)) for pet in ds_pet_age_list[student]] for student in range(len(ds_pet_age_list))]\n",
    "a"
   ]
  },
  {
   "cell_type": "code",
   "execution_count": 150,
   "metadata": {},
   "outputs": [
    {
     "data": {
      "text/plain": [
       "5.444444444444445"
      ]
     },
     "execution_count": 150,
     "metadata": {},
     "output_type": "execute_result"
    }
   ],
   "source": [
    "sum(a)/len(a)"
   ]
  },
  {
   "cell_type": "markdown",
   "metadata": {},
   "source": [
    "What is most frequent coffee preference for data science students?"
   ]
  },
  {
   "cell_type": "code",
   "execution_count": 151,
   "metadata": {},
   "outputs": [
    {
     "data": {
      "text/plain": [
       "{'Thomas Bayes': 'medium',\n",
       " 'Grace Hopper': 'dark',\n",
       " 'Rosalind Franklin': 'dark',\n",
       " 'Rene Descartes': 'medium',\n",
       " 'Ahmed Zewail': 'medium',\n",
       " 'William Sanford Nye': 'dark',\n",
       " 'Carl Sagan': 'medium'}"
      ]
     },
     "execution_count": 151,
     "metadata": {},
     "output_type": "execute_result"
    }
   ],
   "source": [
    "ds_coffee_preference_dict ={v['student']: v['coffee_preference'] for v in students if v['course'] =='data science'}\n",
    "ds_coffee_preference_dict"
   ]
  },
  {
   "cell_type": "code",
   "execution_count": 152,
   "metadata": {},
   "outputs": [
    {
     "data": {
      "text/plain": [
       "['medium', 'dark', 'dark', 'medium', 'medium', 'dark', 'medium']"
      ]
     },
     "execution_count": 152,
     "metadata": {},
     "output_type": "execute_result"
    }
   ],
   "source": [
    "ds_coffee_preference_list = list(ds_coffee_preference_dict.values())\n",
    "ds_coffee_preference_list"
   ]
  },
  {
   "cell_type": "code",
   "execution_count": 153,
   "metadata": {
    "scrolled": true
   },
   "outputs": [
    {
     "data": {
      "text/plain": [
       "{'medium': 4, 'dark': 3}"
      ]
     },
     "execution_count": 153,
     "metadata": {},
     "output_type": "execute_result"
    }
   ],
   "source": [
    "ds_coffee_pref_freq_dict = {coffee_preference: ds_coffee_preference_list.count(coffee_preference) for coffee_preference in ds_coffee_preference_list}\n",
    "ds_coffee_pref_freq_dict"
   ]
  },
  {
   "cell_type": "code",
   "execution_count": 154,
   "metadata": {},
   "outputs": [
    {
     "data": {
      "text/plain": [
       "'medium'"
      ]
     },
     "execution_count": 154,
     "metadata": {},
     "output_type": "execute_result"
    }
   ],
   "source": [
    "max(ds_coffee_pref_freq_dict)"
   ]
  },
  {
   "cell_type": "markdown",
   "metadata": {},
   "source": [
    "#### Be careful this is not neccessarily the correct answer. What if we changed the value of 'medium' to be less than 'dark'?"
   ]
  },
  {
   "cell_type": "code",
   "execution_count": 155,
   "metadata": {},
   "outputs": [
    {
     "data": {
      "text/plain": [
       "{'medium': 2, 'dark': 3}"
      ]
     },
     "execution_count": 155,
     "metadata": {},
     "output_type": "execute_result"
    }
   ],
   "source": [
    "ds_coffee_pref_freq_dict['medium'] = 2\n",
    "ds_coffee_pref_freq_dict"
   ]
  },
  {
   "cell_type": "code",
   "execution_count": 156,
   "metadata": {},
   "outputs": [
    {
     "data": {
      "text/plain": [
       "'medium'"
      ]
     },
     "execution_count": 156,
     "metadata": {},
     "output_type": "execute_result"
    }
   ],
   "source": [
    "max(ds_coffee_pref_freq_dict)"
   ]
  },
  {
   "cell_type": "markdown",
   "metadata": {},
   "source": [
    "#### It is taking the longest string values of the keys. Go back and change the value of medium to 4."
   ]
  },
  {
   "cell_type": "code",
   "execution_count": 157,
   "metadata": {},
   "outputs": [
    {
     "data": {
      "text/plain": [
       "{'medium': 4, 'dark': 3}"
      ]
     },
     "execution_count": 157,
     "metadata": {},
     "output_type": "execute_result"
    }
   ],
   "source": [
    "ds_coffee_pref_freq_dict['medium'] = 4\n",
    "ds_coffee_pref_freq_dict"
   ]
  },
  {
   "cell_type": "code",
   "execution_count": 158,
   "metadata": {},
   "outputs": [
    {
     "data": {
      "text/plain": [
       "[4, 3]"
      ]
     },
     "execution_count": 158,
     "metadata": {},
     "output_type": "execute_result"
    }
   ],
   "source": [
    "ds_coffee_pref_freq_list = list(ds_coffee_pref_freq_dict.values())\n",
    "ds_coffee_pref_freq_list"
   ]
  },
  {
   "cell_type": "code",
   "execution_count": 159,
   "metadata": {},
   "outputs": [
    {
     "data": {
      "text/plain": [
       "{'medium'}"
      ]
     },
     "execution_count": 159,
     "metadata": {},
     "output_type": "execute_result"
    }
   ],
   "source": [
    "{x for x in ds_coffee_pref_freq_dict if ds_coffee_pref_freq_dict[x] == max(ds_coffee_pref_freq_list)}"
   ]
  },
  {
   "cell_type": "markdown",
   "metadata": {},
   "source": [
    "What is the least frequent coffee preference for web development students?"
   ]
  },
  {
   "cell_type": "code",
   "execution_count": 160,
   "metadata": {},
   "outputs": [
    {
     "data": {
      "text/plain": [
       "{'Ada Lovelace': 'light',\n",
       " 'Marie Curie': 'light',\n",
       " 'Alan Turing': 'dark',\n",
       " 'Elizabeth Blackwell': 'dark',\n",
       " 'Chien-Shiung Wu': 'medium',\n",
       " 'Jane Goodall': 'light',\n",
       " 'Richard Feynman': 'medium'}"
      ]
     },
     "execution_count": 160,
     "metadata": {},
     "output_type": "execute_result"
    }
   ],
   "source": [
    "wd_coffee_preference_dict ={v['student']: v['coffee_preference'] for v in students if v['course'] =='web development'}\n",
    "wd_coffee_preference_dict"
   ]
  },
  {
   "cell_type": "code",
   "execution_count": 161,
   "metadata": {},
   "outputs": [
    {
     "data": {
      "text/plain": [
       "['light', 'light', 'dark', 'dark', 'medium', 'light', 'medium']"
      ]
     },
     "execution_count": 161,
     "metadata": {},
     "output_type": "execute_result"
    }
   ],
   "source": [
    "wd_coffee_preference_list = list(wd_coffee_preference_dict.values())\n",
    "wd_coffee_preference_list"
   ]
  },
  {
   "cell_type": "code",
   "execution_count": 162,
   "metadata": {},
   "outputs": [
    {
     "data": {
      "text/plain": [
       "{'light': 3, 'dark': 2, 'medium': 2}"
      ]
     },
     "execution_count": 162,
     "metadata": {},
     "output_type": "execute_result"
    }
   ],
   "source": [
    "wd_coffee_pref_freq_dict = {coffee_pref:wd_coffee_preference_list.count(coffee_pref) for coffee_pref in wd_coffee_preference_list}\n",
    "wd_coffee_pref_freq_dict"
   ]
  },
  {
   "cell_type": "code",
   "execution_count": 163,
   "metadata": {},
   "outputs": [
    {
     "data": {
      "text/plain": [
       "[3, 2, 2]"
      ]
     },
     "execution_count": 163,
     "metadata": {},
     "output_type": "execute_result"
    }
   ],
   "source": [
    "wd_coffee_pref_freq_list = list(wd_coffee_pref_freq_dict.values())\n",
    "wd_coffee_pref_freq_list"
   ]
  },
  {
   "cell_type": "code",
   "execution_count": 164,
   "metadata": {},
   "outputs": [
    {
     "data": {
      "text/plain": [
       "{'dark', 'medium'}"
      ]
     },
     "execution_count": 164,
     "metadata": {},
     "output_type": "execute_result"
    }
   ],
   "source": [
    "{x for x in wd_coffee_pref_freq_dict if wd_coffee_pref_freq_dict[x]==min(wd_coffee_pref_freq_list)}"
   ]
  },
  {
   "cell_type": "markdown",
   "metadata": {},
   "source": [
    "What is the average grade for students with at least 2 pets?"
   ]
  },
  {
   "cell_type": "code",
   "execution_count": 165,
   "metadata": {},
   "outputs": [
    {
     "data": {
      "text/plain": [
       "{'Grace Hopper': 78.5,\n",
       " 'Alan Turing': 81.5,\n",
       " 'Rene Descartes': 88.75,\n",
       " 'Ahmed Zewail': 88.75,\n",
       " 'William Sanford Nye': 81.5}"
      ]
     },
     "execution_count": 165,
     "metadata": {},
     "output_type": "execute_result"
    }
   ],
   "source": [
    "student_avg_dict = {v['student']:sum(v['grades'])/len(v['grades']) for v in students if len(v['pets']) >=2}\n",
    "student_avg_dict"
   ]
  },
  {
   "cell_type": "code",
   "execution_count": 166,
   "metadata": {},
   "outputs": [
    {
     "data": {
      "text/plain": [
       "[78.5, 81.5, 88.75, 88.75, 81.5]"
      ]
     },
     "execution_count": 166,
     "metadata": {},
     "output_type": "execute_result"
    }
   ],
   "source": [
    "averages_list = list(student_avg_dict.values())\n",
    "averages_list"
   ]
  },
  {
   "cell_type": "code",
   "execution_count": 167,
   "metadata": {},
   "outputs": [
    {
     "data": {
      "text/plain": [
       "83.8"
      ]
     },
     "execution_count": 167,
     "metadata": {},
     "output_type": "execute_result"
    }
   ],
   "source": [
    "sum(averages_list)/len(averages_list)"
   ]
  },
  {
   "cell_type": "markdown",
   "metadata": {},
   "source": [
    "How many students have 3 pets?"
   ]
  },
  {
   "cell_type": "code",
   "execution_count": 168,
   "metadata": {},
   "outputs": [
    {
     "data": {
      "text/plain": [
       "1"
      ]
     },
     "execution_count": 168,
     "metadata": {},
     "output_type": "execute_result"
    }
   ],
   "source": [
    "len({v['student']:v['pets'] for v in students if len(v['pets']) == 3})"
   ]
  },
  {
   "cell_type": "markdown",
   "metadata": {},
   "source": [
    "What is the average grade for students with 0 pets?"
   ]
  },
  {
   "cell_type": "code",
   "execution_count": 169,
   "metadata": {},
   "outputs": [
    {
     "data": {
      "text/plain": [
       "{'Thomas Bayes': 83.5, 'Rosalind Franklin': 80.75}"
      ]
     },
     "execution_count": 169,
     "metadata": {},
     "output_type": "execute_result"
    }
   ],
   "source": [
    "student_grades_dict = {v['student']:sum(v['grades'])/len(v['grades']) for v in students if len(v['pets'])==0}\n",
    "student_grades_dict"
   ]
  },
  {
   "cell_type": "code",
   "execution_count": 170,
   "metadata": {},
   "outputs": [
    {
     "data": {
      "text/plain": [
       "82.125"
      ]
     },
     "execution_count": 170,
     "metadata": {},
     "output_type": "execute_result"
    }
   ],
   "source": [
    "sum(student_grades_dict.values())/len(student_grades_dict.values())"
   ]
  },
  {
   "cell_type": "markdown",
   "metadata": {},
   "source": [
    "What is the average grade for web development students? data science students?"
   ]
  },
  {
   "cell_type": "code",
   "execution_count": 171,
   "metadata": {},
   "outputs": [
    {
     "data": {
      "text/plain": [
       "{'Ada Lovelace': 78.5,\n",
       " 'Marie Curie': 73.25,\n",
       " 'Alan Turing': 81.5,\n",
       " 'Elizabeth Blackwell': 84.5,\n",
       " 'Chien-Shiung Wu': 82.5,\n",
       " 'Jane Goodall': 79.0,\n",
       " 'Richard Feynman': 89.0}"
      ]
     },
     "execution_count": 171,
     "metadata": {},
     "output_type": "execute_result"
    }
   ],
   "source": [
    "wd_grades_dict = {v['student']:sum(v['grades'])/len(v['grades']) for v in students if v['course']=='web development'}\n",
    "wd_grades_dict"
   ]
  },
  {
   "cell_type": "code",
   "execution_count": 172,
   "metadata": {},
   "outputs": [
    {
     "data": {
      "text/plain": [
       "81.17857142857143"
      ]
     },
     "execution_count": 172,
     "metadata": {},
     "output_type": "execute_result"
    }
   ],
   "source": [
    "sum(wd_grades_dict.values())/len(wd_grades_dict.values())"
   ]
  },
  {
   "cell_type": "markdown",
   "metadata": {},
   "source": [
    "What is the average grade range (i.e. highest grade - lowest grade) for dark coffee drinkers?"
   ]
  },
  {
   "cell_type": "code",
   "execution_count": 173,
   "metadata": {},
   "outputs": [
    {
     "data": {
      "text/plain": [
       "{'Grace Hopper': [73, 66, 83, 92],\n",
       " 'Alan Turing': [78, 98, 85, 65],\n",
       " 'Rosalind Franklin': [76, 70, 96, 81],\n",
       " 'Elizabeth Blackwell': [69, 94, 89, 86],\n",
       " 'William Sanford Nye': [70, 92, 65, 99]}"
      ]
     },
     "execution_count": 173,
     "metadata": {},
     "output_type": "execute_result"
    }
   ],
   "source": [
    "dark_grades_dict = {v['student']:v['grades'] for v in students if v['coffee_preference']=='dark'}\n",
    "dark_grades_dict"
   ]
  },
  {
   "cell_type": "code",
   "execution_count": 174,
   "metadata": {},
   "outputs": [
    {
     "data": {
      "text/plain": [
       "[[73, 66, 83, 92],\n",
       " [78, 98, 85, 65],\n",
       " [76, 70, 96, 81],\n",
       " [69, 94, 89, 86],\n",
       " [70, 92, 65, 99]]"
      ]
     },
     "execution_count": 174,
     "metadata": {},
     "output_type": "execute_result"
    }
   ],
   "source": [
    "dark_grades_list = list(dark_grades_dict.values())\n",
    "dark_grades_list"
   ]
  },
  {
   "cell_type": "code",
   "execution_count": 175,
   "metadata": {},
   "outputs": [
    {
     "data": {
      "text/plain": [
       "(65, 99)"
      ]
     },
     "execution_count": 175,
     "metadata": {},
     "output_type": "execute_result"
    }
   ],
   "source": [
    "f = []\n",
    "[[f.append(x) for x in dark_grades_list[g]] for g in range(len(dark_grades_list))]\n",
    "min(f), max(f)"
   ]
  },
  {
   "cell_type": "markdown",
   "metadata": {},
   "source": [
    "What is the average number of pets for medium coffee drinkers?"
   ]
  },
  {
   "cell_type": "code",
   "execution_count": 176,
   "metadata": {},
   "outputs": [
    {
     "data": {
      "text/plain": [
       "{'Thomas Bayes': 0,\n",
       " 'Rene Descartes': 2,\n",
       " 'Ahmed Zewail': 2,\n",
       " 'Chien-Shiung Wu': 1,\n",
       " 'Carl Sagan': 1,\n",
       " 'Richard Feynman': 1}"
      ]
     },
     "execution_count": 176,
     "metadata": {},
     "output_type": "execute_result"
    }
   ],
   "source": [
    "medium_pets_count = {v['student']:len(v['pets']) for v in students if v['coffee_preference']=='medium'}\n",
    "medium_pets_count"
   ]
  },
  {
   "cell_type": "code",
   "execution_count": 177,
   "metadata": {},
   "outputs": [
    {
     "data": {
      "text/plain": [
       "1.1666666666666667"
      ]
     },
     "execution_count": 177,
     "metadata": {},
     "output_type": "execute_result"
    }
   ],
   "source": [
    "sum(medium_pets_count.values())/len(medium_pets_count.values())"
   ]
  },
  {
   "cell_type": "markdown",
   "metadata": {},
   "source": [
    "What is the most common type of pet for web development students?"
   ]
  },
  {
   "cell_type": "code",
   "execution_count": 178,
   "metadata": {},
   "outputs": [
    {
     "data": {
      "text/plain": [
       "{'Ada Lovelace': ['horse'],\n",
       " 'Marie Curie': ['cat'],\n",
       " 'Alan Turing': ['horse', 'horse', 'dog'],\n",
       " 'Elizabeth Blackwell': ['cat'],\n",
       " 'Chien-Shiung Wu': ['cat'],\n",
       " 'Jane Goodall': ['horse'],\n",
       " 'Richard Feynman': ['dog']}"
      ]
     },
     "execution_count": 178,
     "metadata": {},
     "output_type": "execute_result"
    }
   ],
   "source": [
    "web_dev_pets_dict = {v['student']:[v['pets'][x]['species'] for x in range(len(v['pets']))] for v in students if v['course']=='web development'}\n",
    "web_dev_pets_dict"
   ]
  },
  {
   "cell_type": "code",
   "execution_count": 179,
   "metadata": {},
   "outputs": [
    {
     "data": {
      "text/plain": [
       "[['horse'],\n",
       " ['cat'],\n",
       " ['horse', 'horse', 'dog'],\n",
       " ['cat'],\n",
       " ['cat'],\n",
       " ['horse'],\n",
       " ['dog']]"
      ]
     },
     "execution_count": 179,
     "metadata": {},
     "output_type": "execute_result"
    }
   ],
   "source": [
    "web_dev_pets_list = list(web_dev_pets.values())\n",
    "web_dev_pets_list"
   ]
  },
  {
   "cell_type": "code",
   "execution_count": 180,
   "metadata": {},
   "outputs": [
    {
     "data": {
      "text/plain": [
       "['horse', 'cat', 'horse', 'horse', 'dog', 'cat', 'cat', 'horse', 'dog']"
      ]
     },
     "execution_count": 180,
     "metadata": {},
     "output_type": "execute_result"
    }
   ],
   "source": [
    "f = []\n",
    "[[f.append(x) for x in web_dev_pets_list[p]] for p in range(len(web_dev_pets_list))]\n",
    "f"
   ]
  },
  {
   "cell_type": "code",
   "execution_count": 181,
   "metadata": {},
   "outputs": [
    {
     "data": {
      "text/plain": [
       "{'horse': 4, 'cat': 3, 'dog': 2}"
      ]
     },
     "execution_count": 181,
     "metadata": {},
     "output_type": "execute_result"
    }
   ],
   "source": [
    "web_dev_pet_type_dict = {pet:f.count(pet) for pet in f}\n",
    "web_dev_pet_type_dict"
   ]
  },
  {
   "cell_type": "code",
   "execution_count": 182,
   "metadata": {},
   "outputs": [
    {
     "data": {
      "text/plain": [
       "{'horse': 4}"
      ]
     },
     "execution_count": 182,
     "metadata": {},
     "output_type": "execute_result"
    }
   ],
   "source": [
    "{x:v for x,v in web_dev_pet_type_dict.items() if v==max(web_dev_pet_type_dict.values())}"
   ]
  },
  {
   "cell_type": "markdown",
   "metadata": {},
   "source": [
    "What is the average name length?"
   ]
  },
  {
   "cell_type": "code",
   "execution_count": 183,
   "metadata": {},
   "outputs": [
    {
     "data": {
      "text/plain": [
       "{'Ada Lovelace': 12,\n",
       " 'Thomas Bayes': 12,\n",
       " 'Marie Curie': 11,\n",
       " 'Grace Hopper': 12,\n",
       " 'Alan Turing': 11,\n",
       " 'Rosalind Franklin': 17,\n",
       " 'Elizabeth Blackwell': 19,\n",
       " 'Rene Descartes': 14,\n",
       " 'Ahmed Zewail': 12,\n",
       " 'Chien-Shiung Wu': 15,\n",
       " 'William Sanford Nye': 19,\n",
       " 'Carl Sagan': 10,\n",
       " 'Jane Goodall': 12,\n",
       " 'Richard Feynman': 15}"
      ]
     },
     "execution_count": 183,
     "metadata": {},
     "output_type": "execute_result"
    }
   ],
   "source": [
    "name_length_dict = {v['student']:len(v['student']) for v in students}\n",
    "name_length_dict"
   ]
  },
  {
   "cell_type": "code",
   "execution_count": 184,
   "metadata": {},
   "outputs": [
    {
     "data": {
      "text/plain": [
       "13.642857142857142"
      ]
     },
     "execution_count": 184,
     "metadata": {},
     "output_type": "execute_result"
    }
   ],
   "source": [
    "sum(name_length_dict.values())/len(name_length_dict.values())"
   ]
  },
  {
   "cell_type": "markdown",
   "metadata": {},
   "source": [
    "What is the highest pet age for light coffee drinkers?"
   ]
  },
  {
   "cell_type": "code",
   "execution_count": 186,
   "metadata": {},
   "outputs": [],
   "source": [
    "light_pet_age_dict = {v['student']:[v['pets'][x]['age'] for x in range(len(v['pets']))] for v in students if v['coffee_preference']=='light'}"
   ]
  },
  {
   "cell_type": "code",
   "execution_count": 187,
   "metadata": {},
   "outputs": [],
   "source": [
    "# light_pet_age_dict['Ada Lovelace']\n",
    "# light_pet_age_dict"
   ]
  },
  {
   "cell_type": "code",
   "execution_count": 188,
   "metadata": {},
   "outputs": [],
   "source": [
    "light_max_pet_age = max(light_pet_age_dict.values())[0]"
   ]
  },
  {
   "cell_type": "code",
   "execution_count": 189,
   "metadata": {},
   "outputs": [
    {
     "data": {
      "text/plain": [
       "{'Ada Lovelace': [{'species': 'horse', 'age': 8}],\n",
       " 'Marie Curie': [{'species': 'cat', 'age': 0}],\n",
       " 'Jane Goodall': [{'species': 'horse', 'age': 4}]}"
      ]
     },
     "execution_count": 189,
     "metadata": {},
     "output_type": "execute_result"
    }
   ],
   "source": [
    "{v['student']:v['pets'] for v in students if v['coffee_preference'] =='light'}"
   ]
  },
  {
   "cell_type": "code",
   "execution_count": 207,
   "metadata": {},
   "outputs": [
    {
     "data": {
      "text/plain": [
       "{0: {'student': 'Ada Lovelace', 'pets_ages': [8]},\n",
       " 1: {'student': 'Thomas Bayes', 'pets_ages': []},\n",
       " 2: {'student': 'Marie Curie', 'pets_ages': [0]},\n",
       " 3: {'student': 'Grace Hopper', 'pets_ages': [4, 4]},\n",
       " 4: {'student': 'Alan Turing', 'pets_ages': [6, 7, 5]},\n",
       " 5: {'student': 'Rosalind Franklin', 'pets_ages': []},\n",
       " 6: {'student': 'Elizabeth Blackwell', 'pets_ages': [10]},\n",
       " 7: {'student': 'Rene Descartes', 'pets_ages': [10, 8]},\n",
       " 8: {'student': 'Ahmed Zewail', 'pets_ages': [0, 0]},\n",
       " 9: {'student': 'Chien-Shiung Wu', 'pets_ages': [8]},\n",
       " 10: {'student': 'William Sanford Nye', 'pets_ages': [8, 5]},\n",
       " 11: {'student': 'Carl Sagan', 'pets_ages': [10]},\n",
       " 12: {'student': 'Jane Goodall', 'pets_ages': [4]},\n",
       " 13: {'student': 'Richard Feynman', 'pets_ages': [6]}}"
      ]
     },
     "execution_count": 207,
     "metadata": {},
     "output_type": "execute_result"
    }
   ],
   "source": [
    "student_pet_ages_dict = {i:{'student':x['student'], 'pets_ages':[x['pets'][v]['age'] for v in range(len(x['pets']))]} for i,x in enumerate(students)}\n",
    "student_pet_ages_dict"
   ]
  },
  {
   "cell_type": "code",
   "execution_count": 214,
   "metadata": {},
   "outputs": [
    {
     "data": {
      "text/plain": [
       "10"
      ]
     },
     "execution_count": 214,
     "metadata": {},
     "output_type": "execute_result"
    }
   ],
   "source": [
    "max_pet_age = max(max([student_pet_ages_dict[x]['pets_ages'] for x in range(len(student_pet_ages_dict))]))\n",
    "max_pet_age"
   ]
  },
  {
   "cell_type": "code",
   "execution_count": 274,
   "metadata": {},
   "outputs": [
    {
     "data": {
      "text/plain": [
       "[{'Ada Lovelace': [{'species': 'horse', 'age': 8}]},\n",
       " {'Marie Curie': [{'species': 'cat', 'age': 0}]},\n",
       " {'Grace Hopper': [{'species': 'dog', 'age': 4},\n",
       "   {'species': 'cat', 'age': 4}]},\n",
       " {'Alan Turing': [{'species': 'horse', 'age': 6},\n",
       "   {'species': 'horse', 'age': 7},\n",
       "   {'species': 'dog', 'age': 5}]},\n",
       " {'Elizabeth Blackwell': [{'species': 'cat', 'age': 10}]},\n",
       " {'Rene Descartes': [{'species': 'cat', 'age': 10},\n",
       "   {'species': 'cat', 'age': 8}]},\n",
       " {'Ahmed Zewail': [{'species': 'cat', 'age': 0},\n",
       "   {'species': 'cat', 'age': 0}]},\n",
       " {'Chien-Shiung Wu': [{'species': 'cat', 'age': 8}]},\n",
       " {'William Sanford Nye': [{'species': 'cat', 'age': 8},\n",
       "   {'species': 'cat', 'age': 5}]},\n",
       " {'Carl Sagan': [{'species': 'cat', 'age': 10}]},\n",
       " {'Jane Goodall': [{'species': 'horse', 'age': 4}]},\n",
       " {'Richard Feynman': [{'species': 'dog', 'age': 6}]}]"
      ]
     },
     "execution_count": 274,
     "metadata": {},
     "output_type": "execute_result"
    }
   ],
   "source": [
    "students_with_pets_list = [{x['student']: x.get('pets')} for x in students if len(x.get('pets'))>0]\n",
    "students_with_pets_list"
   ]
  },
  {
   "cell_type": "code",
   "execution_count": 275,
   "metadata": {},
   "outputs": [
    {
     "data": {
      "text/plain": [
       "['Ada Lovelace',\n",
       " 'Marie Curie',\n",
       " 'Grace Hopper',\n",
       " 'Alan Turing',\n",
       " 'Elizabeth Blackwell',\n",
       " 'Rene Descartes',\n",
       " 'Ahmed Zewail',\n",
       " 'Chien-Shiung Wu',\n",
       " 'William Sanford Nye',\n",
       " 'Carl Sagan',\n",
       " 'Jane Goodall',\n",
       " 'Richard Feynman']"
      ]
     },
     "execution_count": 275,
     "metadata": {},
     "output_type": "execute_result"
    }
   ],
   "source": [
    "students_with_pets_list = [list({'student':k for k,v in x.items()}.values())[0] for x in students_with_pets_list]\n",
    "students_with_pets_list"
   ]
  },
  {
   "cell_type": "code",
   "execution_count": 238,
   "metadata": {},
   "outputs": [
    {
     "data": {
      "text/plain": [
       "'Alan Turing'"
      ]
     },
     "execution_count": 238,
     "metadata": {},
     "output_type": "execute_result"
    }
   ],
   "source": [
    "students[4]['student']"
   ]
  },
  {
   "cell_type": "code",
   "execution_count": 305,
   "metadata": {},
   "outputs": [],
   "source": [
    "students_with_pets_dict = {students[i]['student']: {i:x for i,x in enumerate(students[i]['pets'])} for i in range(len(students)) if students[i]['student'] in students_with_pets_list}"
   ]
  },
  {
   "cell_type": "code",
   "execution_count": 317,
   "metadata": {},
   "outputs": [
    {
     "data": {
      "text/plain": [
       "{'Elizabeth Blackwell': {0: {'species': 'cat', 'age': 10}},\n",
       " 'Rene Descartes': {0: {'species': 'cat', 'age': 10}},\n",
       " 'Carl Sagan': {0: {'species': 'cat', 'age': 10}}}"
      ]
     },
     "execution_count": 317,
     "metadata": {},
     "output_type": "execute_result"
    }
   ],
   "source": [
    "{k:{s:t for s,t in v.items() if t['age']==max_pet_age} for k,v in students_with_pets_dict.items() if max([v[x]['age'] for x in v])==max_pet_age}"
   ]
  },
  {
   "cell_type": "code",
   "execution_count": 340,
   "metadata": {},
   "outputs": [
    {
     "data": {
      "text/plain": [
       "[[{'species': 'horse', 'age': 8}],\n",
       " [],\n",
       " [{'species': 'cat', 'age': 0}],\n",
       " [{'species': 'dog', 'age': 4}, {'species': 'cat', 'age': 4}],\n",
       " [{'species': 'horse', 'age': 6},\n",
       "  {'species': 'horse', 'age': 7},\n",
       "  {'species': 'dog', 'age': 5}],\n",
       " [],\n",
       " [{'species': 'cat', 'age': 10}],\n",
       " [{'species': 'cat', 'age': 10}, {'species': 'cat', 'age': 8}],\n",
       " [{'species': 'cat', 'age': 0}, {'species': 'cat', 'age': 0}],\n",
       " [{'species': 'cat', 'age': 8}],\n",
       " [{'species': 'cat', 'age': 8}, {'species': 'cat', 'age': 5}],\n",
       " [{'species': 'cat', 'age': 10}],\n",
       " [{'species': 'horse', 'age': 4}],\n",
       " [{'species': 'dog', 'age': 6}]]"
      ]
     },
     "execution_count": 340,
     "metadata": {},
     "output_type": "execute_result"
    }
   ],
   "source": [
    "[x['pets']for x in students]"
   ]
  },
  {
   "cell_type": "code",
   "execution_count": 354,
   "metadata": {
    "scrolled": true
   },
   "outputs": [
    {
     "data": {
      "text/plain": [
       "[{'Ada Lovelace': {0: {'species': 'horse', 'age': 8}}},\n",
       " {'Marie Curie': {0: {'species': 'cat', 'age': 0}}},\n",
       " {'Grace Hopper': {0: {'species': 'dog', 'age': 4},\n",
       "   1: {'species': 'cat', 'age': 4}}},\n",
       " {'Alan Turing': {0: {'species': 'horse', 'age': 6},\n",
       "   1: {'species': 'horse', 'age': 7},\n",
       "   2: {'species': 'dog', 'age': 5}}},\n",
       " {'Elizabeth Blackwell': {0: {'species': 'cat', 'age': 10}}},\n",
       " {'Rene Descartes': {0: {'species': 'cat', 'age': 10},\n",
       "   1: {'species': 'cat', 'age': 8}}},\n",
       " {'Ahmed Zewail': {0: {'species': 'cat', 'age': 0},\n",
       "   1: {'species': 'cat', 'age': 0}}},\n",
       " {'Chien-Shiung Wu': {0: {'species': 'cat', 'age': 8}}},\n",
       " {'William Sanford Nye': {0: {'species': 'cat', 'age': 8},\n",
       "   1: {'species': 'cat', 'age': 5}}},\n",
       " {'Carl Sagan': {0: {'species': 'cat', 'age': 10}}},\n",
       " {'Jane Goodall': {0: {'species': 'horse', 'age': 4}}},\n",
       " {'Richard Feynman': {0: {'species': 'dog', 'age': 6}}}]"
      ]
     },
     "execution_count": 354,
     "metadata": {},
     "output_type": "execute_result"
    }
   ],
   "source": [
    "[{x['student']:{y:x['pets'][y] for y in range(len(x['pets']))}} for x in students if len(x['pets'])>0]"
   ]
  },
  {
   "cell_type": "code",
   "execution_count": null,
   "metadata": {},
   "outputs": [],
   "source": []
  }
 ],
 "metadata": {
  "kernelspec": {
   "display_name": "Python 3",
   "language": "python",
   "name": "python3"
  },
  "language_info": {
   "codemirror_mode": {
    "name": "ipython",
    "version": 3
   },
   "file_extension": ".py",
   "mimetype": "text/x-python",
   "name": "python",
   "nbconvert_exporter": "python",
   "pygments_lexer": "ipython3",
   "version": "3.7.3"
  }
 },
 "nbformat": 4,
 "nbformat_minor": 2
}
